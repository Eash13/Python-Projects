{
 "cells": [
  {
   "cell_type": "markdown",
   "id": "1fc4d4a6",
   "metadata": {
    "papermill": {
     "duration": 0.014689,
     "end_time": "2023-02-21T04:44:44.007869",
     "exception": false,
     "start_time": "2023-02-21T04:44:43.993180",
     "status": "completed"
    },
    "tags": []
   },
   "source": [
    "# Simple Linear Regression\n",
    "\n",
    "## Objectives\n",
    "\n",
    "*   Use scikit-learn to implement simple Linear Regression\n",
    "*   Create a model, train it, test it and use the model"
   ]
  },
  {
   "cell_type": "markdown",
   "id": "ca7290b4",
   "metadata": {
    "papermill": {
     "duration": 0.01424,
     "end_time": "2023-02-21T04:44:44.035098",
     "exception": false,
     "start_time": "2023-02-21T04:44:44.020858",
     "status": "completed"
    },
    "tags": []
   },
   "source": [
    "Importing Relevant Packages "
   ]
  },
  {
   "cell_type": "code",
   "execution_count": 1,
   "id": "8d44f4af",
   "metadata": {
    "_cell_guid": "b1076dfc-b9ad-4769-8c92-a6c4dae69d19",
    "_uuid": "8f2839f25d086af736a60e9eeb907d3b93b6e0e5",
    "execution": {
     "iopub.execute_input": "2023-02-21T04:44:44.062656Z",
     "iopub.status.busy": "2023-02-21T04:44:44.061798Z",
     "iopub.status.idle": "2023-02-21T04:44:45.477705Z",
     "shell.execute_reply": "2023-02-21T04:44:45.476404Z"
    },
    "papermill": {
     "duration": 1.433724,
     "end_time": "2023-02-21T04:44:45.481305",
     "exception": false,
     "start_time": "2023-02-21T04:44:44.047581",
     "status": "completed"
    },
    "tags": []
   },
   "outputs": [],
   "source": [
    "\n",
    "\n",
    "import numpy as np\n",
    "import pandas as pd \n",
    "import matplotlib.pyplot as plt\n",
    "import seaborn as sns \n",
    "%matplotlib inline\n",
    "plt.rcParams['font.size'] = 14\n",
    "plt.rcParams['figure.figsize'] = (12, 8)\n",
    "plt.rcParams['figure.facecolor'] = '#00000000'\n",
    "\n",
    "\n"
   ]
  },
  {
   "cell_type": "markdown",
   "id": "aafcfda2",
   "metadata": {
    "papermill": {
     "duration": 0.012636,
     "end_time": "2023-02-21T04:44:45.507999",
     "exception": false,
     "start_time": "2023-02-21T04:44:45.495363",
     "status": "completed"
    },
    "tags": []
   },
   "source": [
    "Importing the dataset"
   ]
  },
  {
   "cell_type": "code",
   "execution_count": 4,
   "id": "86a587e2",
   "metadata": {
    "execution": {
     "iopub.execute_input": "2023-02-21T04:44:45.625949Z",
     "iopub.status.busy": "2023-02-21T04:44:45.624663Z",
     "iopub.status.idle": "2023-02-21T04:44:45.655377Z",
     "shell.execute_reply": "2023-02-21T04:44:45.653839Z"
    },
    "papermill": {
     "duration": 0.048826,
     "end_time": "2023-02-21T04:44:45.658562",
     "exception": false,
     "start_time": "2023-02-21T04:44:45.609736",
     "status": "completed"
    },
    "tags": []
   },
   "outputs": [],
   "source": [
    "df = pd.read_csv('Fuel consumption 2019.csv')"
   ]
  },
  {
   "cell_type": "markdown",
   "id": "2cc09ad5",
   "metadata": {
    "papermill": {
     "duration": 0.012732,
     "end_time": "2023-02-21T04:44:45.684868",
     "exception": false,
     "start_time": "2023-02-21T04:44:45.672136",
     "status": "completed"
    },
    "tags": []
   },
   "source": [
    "Let's first have a descriptive exploration on our data"
   ]
  },
  {
   "cell_type": "code",
   "execution_count": 5,
   "id": "f20e9ae0",
   "metadata": {
    "execution": {
     "iopub.execute_input": "2023-02-21T04:44:45.713068Z",
     "iopub.status.busy": "2023-02-21T04:44:45.712489Z",
     "iopub.status.idle": "2023-02-21T04:44:45.743187Z",
     "shell.execute_reply": "2023-02-21T04:44:45.741983Z"
    },
    "papermill": {
     "duration": 0.048086,
     "end_time": "2023-02-21T04:44:45.745767",
     "exception": false,
     "start_time": "2023-02-21T04:44:45.697681",
     "status": "completed"
    },
    "tags": []
   },
   "outputs": [
    {
     "data": {
      "text/html": [
       "<div>\n",
       "<style scoped>\n",
       "    .dataframe tbody tr th:only-of-type {\n",
       "        vertical-align: middle;\n",
       "    }\n",
       "\n",
       "    .dataframe tbody tr th {\n",
       "        vertical-align: top;\n",
       "    }\n",
       "\n",
       "    .dataframe thead th {\n",
       "        text-align: right;\n",
       "    }\n",
       "</style>\n",
       "<table border=\"1\" class=\"dataframe\">\n",
       "  <thead>\n",
       "    <tr style=\"text-align: right;\">\n",
       "      <th></th>\n",
       "      <th>Model-Year</th>\n",
       "      <th>Make</th>\n",
       "      <th>Model</th>\n",
       "      <th>Vehicle-Class</th>\n",
       "      <th>Engine-Size</th>\n",
       "      <th>Cylinders</th>\n",
       "      <th>Transmission</th>\n",
       "      <th>Fuel-Type</th>\n",
       "      <th>Fuel-Consumption-City</th>\n",
       "      <th>Fuel-Consumption-Hwy</th>\n",
       "      <th>Fuel-Consumption-Comb</th>\n",
       "      <th>CO2-Emissions</th>\n",
       "    </tr>\n",
       "  </thead>\n",
       "  <tbody>\n",
       "    <tr>\n",
       "      <th>0</th>\n",
       "      <td>2019</td>\n",
       "      <td>Acura</td>\n",
       "      <td>ILX</td>\n",
       "      <td>Compact</td>\n",
       "      <td>2.4</td>\n",
       "      <td>4</td>\n",
       "      <td>AM8</td>\n",
       "      <td>Z</td>\n",
       "      <td>9.9</td>\n",
       "      <td>7.0</td>\n",
       "      <td>8.6</td>\n",
       "      <td>199</td>\n",
       "    </tr>\n",
       "    <tr>\n",
       "      <th>1</th>\n",
       "      <td>2019</td>\n",
       "      <td>Acura</td>\n",
       "      <td>MDX SH-AWD</td>\n",
       "      <td>SUV: Small</td>\n",
       "      <td>3.5</td>\n",
       "      <td>6</td>\n",
       "      <td>AS9</td>\n",
       "      <td>Z</td>\n",
       "      <td>12.2</td>\n",
       "      <td>9.0</td>\n",
       "      <td>10.8</td>\n",
       "      <td>252</td>\n",
       "    </tr>\n",
       "    <tr>\n",
       "      <th>2</th>\n",
       "      <td>2019</td>\n",
       "      <td>Acura</td>\n",
       "      <td>MDX SH-AWD A-SPEC</td>\n",
       "      <td>SUV: Small</td>\n",
       "      <td>3.5</td>\n",
       "      <td>6</td>\n",
       "      <td>AS9</td>\n",
       "      <td>Z</td>\n",
       "      <td>12.2</td>\n",
       "      <td>9.5</td>\n",
       "      <td>11.0</td>\n",
       "      <td>258</td>\n",
       "    </tr>\n",
       "    <tr>\n",
       "      <th>3</th>\n",
       "      <td>2019</td>\n",
       "      <td>Acura</td>\n",
       "      <td>MDX Hybrid AWD</td>\n",
       "      <td>SUV: Small</td>\n",
       "      <td>3.0</td>\n",
       "      <td>6</td>\n",
       "      <td>AM7</td>\n",
       "      <td>Z</td>\n",
       "      <td>9.1</td>\n",
       "      <td>9.0</td>\n",
       "      <td>9.0</td>\n",
       "      <td>210</td>\n",
       "    </tr>\n",
       "    <tr>\n",
       "      <th>4</th>\n",
       "      <td>2019</td>\n",
       "      <td>Acura</td>\n",
       "      <td>NSX</td>\n",
       "      <td>Two-seater</td>\n",
       "      <td>3.5</td>\n",
       "      <td>6</td>\n",
       "      <td>AM9</td>\n",
       "      <td>Z</td>\n",
       "      <td>11.1</td>\n",
       "      <td>10.8</td>\n",
       "      <td>11.0</td>\n",
       "      <td>261</td>\n",
       "    </tr>\n",
       "  </tbody>\n",
       "</table>\n",
       "</div>"
      ],
      "text/plain": [
       "   Model-Year   Make              Model Vehicle-Class  Engine-Size  Cylinders  \\\n",
       "0        2019  Acura                ILX       Compact          2.4          4   \n",
       "1        2019  Acura         MDX SH-AWD    SUV: Small          3.5          6   \n",
       "2        2019  Acura  MDX SH-AWD A-SPEC    SUV: Small          3.5          6   \n",
       "3        2019  Acura     MDX Hybrid AWD    SUV: Small          3.0          6   \n",
       "4        2019  Acura                NSX    Two-seater          3.5          6   \n",
       "\n",
       "  Transmission Fuel-Type  Fuel-Consumption-City  Fuel-Consumption-Hwy  \\\n",
       "0          AM8         Z                    9.9                   7.0   \n",
       "1          AS9         Z                   12.2                   9.0   \n",
       "2          AS9         Z                   12.2                   9.5   \n",
       "3          AM7         Z                    9.1                   9.0   \n",
       "4          AM9         Z                   11.1                  10.8   \n",
       "\n",
       "   Fuel-Consumption-Comb  CO2-Emissions  \n",
       "0                    8.6            199  \n",
       "1                   10.8            252  \n",
       "2                   11.0            258  \n",
       "3                    9.0            210  \n",
       "4                   11.0            261  "
      ]
     },
     "execution_count": 5,
     "metadata": {},
     "output_type": "execute_result"
    }
   ],
   "source": [
    "df.head()\n"
   ]
  },
  {
   "cell_type": "code",
   "execution_count": 6,
   "id": "7c37050a",
   "metadata": {
    "execution": {
     "iopub.execute_input": "2023-02-21T04:44:45.776244Z",
     "iopub.status.busy": "2023-02-21T04:44:45.775434Z",
     "iopub.status.idle": "2023-02-21T04:44:45.830012Z",
     "shell.execute_reply": "2023-02-21T04:44:45.828674Z"
    },
    "papermill": {
     "duration": 0.073285,
     "end_time": "2023-02-21T04:44:45.833118",
     "exception": false,
     "start_time": "2023-02-21T04:44:45.759833",
     "status": "completed"
    },
    "tags": []
   },
   "outputs": [
    {
     "data": {
      "text/html": [
       "<div>\n",
       "<style scoped>\n",
       "    .dataframe tbody tr th:only-of-type {\n",
       "        vertical-align: middle;\n",
       "    }\n",
       "\n",
       "    .dataframe tbody tr th {\n",
       "        vertical-align: top;\n",
       "    }\n",
       "\n",
       "    .dataframe thead th {\n",
       "        text-align: right;\n",
       "    }\n",
       "</style>\n",
       "<table border=\"1\" class=\"dataframe\">\n",
       "  <thead>\n",
       "    <tr style=\"text-align: right;\">\n",
       "      <th></th>\n",
       "      <th>Model-Year</th>\n",
       "      <th>Engine-Size</th>\n",
       "      <th>Cylinders</th>\n",
       "      <th>Fuel-Consumption-City</th>\n",
       "      <th>Fuel-Consumption-Hwy</th>\n",
       "      <th>Fuel-Consumption-Comb</th>\n",
       "      <th>CO2-Emissions</th>\n",
       "    </tr>\n",
       "  </thead>\n",
       "  <tbody>\n",
       "    <tr>\n",
       "      <th>count</th>\n",
       "      <td>1046.0</td>\n",
       "      <td>1046.000000</td>\n",
       "      <td>1046.000000</td>\n",
       "      <td>1046.000000</td>\n",
       "      <td>1046.000000</td>\n",
       "      <td>1046.000000</td>\n",
       "      <td>1046.000000</td>\n",
       "    </tr>\n",
       "    <tr>\n",
       "      <th>mean</th>\n",
       "      <td>2019.0</td>\n",
       "      <td>3.108795</td>\n",
       "      <td>5.595602</td>\n",
       "      <td>12.378011</td>\n",
       "      <td>9.038050</td>\n",
       "      <td>10.872562</td>\n",
       "      <td>251.312620</td>\n",
       "    </tr>\n",
       "    <tr>\n",
       "      <th>std</th>\n",
       "      <td>0.0</td>\n",
       "      <td>1.315989</td>\n",
       "      <td>1.796845</td>\n",
       "      <td>3.294286</td>\n",
       "      <td>2.049742</td>\n",
       "      <td>2.697321</td>\n",
       "      <td>57.017573</td>\n",
       "    </tr>\n",
       "    <tr>\n",
       "      <th>min</th>\n",
       "      <td>2019.0</td>\n",
       "      <td>1.000000</td>\n",
       "      <td>3.000000</td>\n",
       "      <td>4.200000</td>\n",
       "      <td>4.000000</td>\n",
       "      <td>4.100000</td>\n",
       "      <td>96.000000</td>\n",
       "    </tr>\n",
       "    <tr>\n",
       "      <th>25%</th>\n",
       "      <td>2019.0</td>\n",
       "      <td>2.000000</td>\n",
       "      <td>4.000000</td>\n",
       "      <td>10.200000</td>\n",
       "      <td>7.600000</td>\n",
       "      <td>9.100000</td>\n",
       "      <td>212.250000</td>\n",
       "    </tr>\n",
       "    <tr>\n",
       "      <th>50%</th>\n",
       "      <td>2019.0</td>\n",
       "      <td>3.000000</td>\n",
       "      <td>6.000000</td>\n",
       "      <td>12.050000</td>\n",
       "      <td>8.800000</td>\n",
       "      <td>10.600000</td>\n",
       "      <td>248.000000</td>\n",
       "    </tr>\n",
       "    <tr>\n",
       "      <th>75%</th>\n",
       "      <td>2019.0</td>\n",
       "      <td>3.600000</td>\n",
       "      <td>6.000000</td>\n",
       "      <td>14.300000</td>\n",
       "      <td>10.200000</td>\n",
       "      <td>12.575000</td>\n",
       "      <td>289.000000</td>\n",
       "    </tr>\n",
       "    <tr>\n",
       "      <th>max</th>\n",
       "      <td>2019.0</td>\n",
       "      <td>8.000000</td>\n",
       "      <td>16.000000</td>\n",
       "      <td>26.800000</td>\n",
       "      <td>17.200000</td>\n",
       "      <td>22.200000</td>\n",
       "      <td>522.000000</td>\n",
       "    </tr>\n",
       "  </tbody>\n",
       "</table>\n",
       "</div>"
      ],
      "text/plain": [
       "       Model-Year  Engine-Size    Cylinders  Fuel-Consumption-City  \\\n",
       "count      1046.0  1046.000000  1046.000000            1046.000000   \n",
       "mean       2019.0     3.108795     5.595602              12.378011   \n",
       "std           0.0     1.315989     1.796845               3.294286   \n",
       "min        2019.0     1.000000     3.000000               4.200000   \n",
       "25%        2019.0     2.000000     4.000000              10.200000   \n",
       "50%        2019.0     3.000000     6.000000              12.050000   \n",
       "75%        2019.0     3.600000     6.000000              14.300000   \n",
       "max        2019.0     8.000000    16.000000              26.800000   \n",
       "\n",
       "       Fuel-Consumption-Hwy  Fuel-Consumption-Comb  CO2-Emissions  \n",
       "count           1046.000000            1046.000000    1046.000000  \n",
       "mean               9.038050              10.872562     251.312620  \n",
       "std                2.049742               2.697321      57.017573  \n",
       "min                4.000000               4.100000      96.000000  \n",
       "25%                7.600000               9.100000     212.250000  \n",
       "50%                8.800000              10.600000     248.000000  \n",
       "75%               10.200000              12.575000     289.000000  \n",
       "max               17.200000              22.200000     522.000000  "
      ]
     },
     "execution_count": 6,
     "metadata": {},
     "output_type": "execute_result"
    }
   ],
   "source": [
    "df.describe()"
   ]
  },
  {
   "cell_type": "markdown",
   "id": "5fbba5f3",
   "metadata": {
    "papermill": {
     "duration": 0.014298,
     "end_time": "2023-02-21T04:44:45.860857",
     "exception": false,
     "start_time": "2023-02-21T04:44:45.846559",
     "status": "completed"
    },
    "tags": []
   },
   "source": [
    "Selecting some features to explore more"
   ]
  },
  {
   "cell_type": "code",
   "execution_count": 7,
   "id": "29fb16cd",
   "metadata": {
    "execution": {
     "iopub.execute_input": "2023-02-21T04:44:45.890540Z",
     "iopub.status.busy": "2023-02-21T04:44:45.889808Z",
     "iopub.status.idle": "2023-02-21T04:44:45.904029Z",
     "shell.execute_reply": "2023-02-21T04:44:45.902671Z"
    },
    "papermill": {
     "duration": 0.031869,
     "end_time": "2023-02-21T04:44:45.906672",
     "exception": false,
     "start_time": "2023-02-21T04:44:45.874803",
     "status": "completed"
    },
    "tags": []
   },
   "outputs": [
    {
     "data": {
      "text/html": [
       "<div>\n",
       "<style scoped>\n",
       "    .dataframe tbody tr th:only-of-type {\n",
       "        vertical-align: middle;\n",
       "    }\n",
       "\n",
       "    .dataframe tbody tr th {\n",
       "        vertical-align: top;\n",
       "    }\n",
       "\n",
       "    .dataframe thead th {\n",
       "        text-align: right;\n",
       "    }\n",
       "</style>\n",
       "<table border=\"1\" class=\"dataframe\">\n",
       "  <thead>\n",
       "    <tr style=\"text-align: right;\">\n",
       "      <th></th>\n",
       "      <th>Engine-Size</th>\n",
       "      <th>Cylinders</th>\n",
       "      <th>Fuel-Consumption-Comb</th>\n",
       "      <th>CO2-Emissions</th>\n",
       "    </tr>\n",
       "  </thead>\n",
       "  <tbody>\n",
       "    <tr>\n",
       "      <th>0</th>\n",
       "      <td>2.4</td>\n",
       "      <td>4</td>\n",
       "      <td>8.6</td>\n",
       "      <td>199</td>\n",
       "    </tr>\n",
       "    <tr>\n",
       "      <th>1</th>\n",
       "      <td>3.5</td>\n",
       "      <td>6</td>\n",
       "      <td>10.8</td>\n",
       "      <td>252</td>\n",
       "    </tr>\n",
       "    <tr>\n",
       "      <th>2</th>\n",
       "      <td>3.5</td>\n",
       "      <td>6</td>\n",
       "      <td>11.0</td>\n",
       "      <td>258</td>\n",
       "    </tr>\n",
       "    <tr>\n",
       "      <th>3</th>\n",
       "      <td>3.0</td>\n",
       "      <td>6</td>\n",
       "      <td>9.0</td>\n",
       "      <td>210</td>\n",
       "    </tr>\n",
       "    <tr>\n",
       "      <th>4</th>\n",
       "      <td>3.5</td>\n",
       "      <td>6</td>\n",
       "      <td>11.0</td>\n",
       "      <td>261</td>\n",
       "    </tr>\n",
       "  </tbody>\n",
       "</table>\n",
       "</div>"
      ],
      "text/plain": [
       "   Engine-Size  Cylinders  Fuel-Consumption-Comb  CO2-Emissions\n",
       "0          2.4          4                    8.6            199\n",
       "1          3.5          6                   10.8            252\n",
       "2          3.5          6                   11.0            258\n",
       "3          3.0          6                    9.0            210\n",
       "4          3.5          6                   11.0            261"
      ]
     },
     "execution_count": 7,
     "metadata": {},
     "output_type": "execute_result"
    }
   ],
   "source": [
    "select_df = df[['Engine-Size','Cylinders','Fuel-Consumption-Comb','CO2-Emissions']]\n",
    "select_df.head()"
   ]
  },
  {
   "cell_type": "markdown",
   "id": "d4fa852e",
   "metadata": {
    "papermill": {
     "duration": 0.013187,
     "end_time": "2023-02-21T04:44:45.934332",
     "exception": false,
     "start_time": "2023-02-21T04:44:45.921145",
     "status": "completed"
    },
    "tags": []
   },
   "source": [
    "Plotting the features "
   ]
  },
  {
   "cell_type": "code",
   "execution_count": 8,
   "id": "ba651061",
   "metadata": {
    "execution": {
     "iopub.execute_input": "2023-02-21T04:44:45.963871Z",
     "iopub.status.busy": "2023-02-21T04:44:45.963092Z",
     "iopub.status.idle": "2023-02-21T04:44:46.620272Z",
     "shell.execute_reply": "2023-02-21T04:44:46.618973Z"
    },
    "papermill": {
     "duration": 0.675137,
     "end_time": "2023-02-21T04:44:46.623027",
     "exception": false,
     "start_time": "2023-02-21T04:44:45.947890",
     "status": "completed"
    },
    "tags": []
   },
   "outputs": [
    {
     "data": {
      "image/png": "[encoded data removed]",
      "text/plain": [
       "<Figure size 864x576 with 4 Axes>"
      ]
     },
     "metadata": {
      "needs_background": "light"
     },
     "output_type": "display_data"
    }
   ],
   "source": [
    "select_df.hist()\n",
    "plt.show()"
   ]
  },
  {
   "cell_type": "markdown",
   "id": "da87bef7",
   "metadata": {
    "papermill": {
     "duration": 0.014613,
     "end_time": "2023-02-21T04:44:46.651620",
     "exception": false,
     "start_time": "2023-02-21T04:44:46.637007",
     "status": "completed"
    },
    "tags": []
   },
   "source": [
    "Plotting each of these features against the Emission, to see how linear their relationship is:"
   ]
  },
  {
   "cell_type": "code",
   "execution_count": 9,
   "id": "537fd908",
   "metadata": {
    "execution": {
     "iopub.execute_input": "2023-02-21T04:44:46.682939Z",
     "iopub.status.busy": "2023-02-21T04:44:46.682040Z",
     "iopub.status.idle": "2023-02-21T04:44:46.949252Z",
     "shell.execute_reply": "2023-02-21T04:44:46.947831Z"
    },
    "papermill": {
     "duration": 0.286232,
     "end_time": "2023-02-21T04:44:46.952110",
     "exception": false,
     "start_time": "2023-02-21T04:44:46.665878",
     "status": "completed"
    },
    "tags": []
   },
   "outputs": [
    {
     "data": {
      "image/png": "[encoded data removed]",
      "text/plain": [
       "<Figure size 864x576 with 1 Axes>"
      ]
     },
     "metadata": {
      "needs_background": "light"
     },
     "output_type": "display_data"
    }
   ],
   "source": [
    "sns.scatterplot(x = 'Fuel-Consumption-Comb' , y = 'CO2-Emissions' ,s=100 , data = df);\n",
    "plt.xlabel(\"Fuel-Consumption-Comb\")\n",
    "plt.ylabel(\"Emission\")\n",
    "plt.show()"
   ]
  },
  {
   "cell_type": "code",
   "execution_count": 10,
   "id": "d3067dc5",
   "metadata": {
    "execution": {
     "iopub.execute_input": "2023-02-21T04:44:46.984869Z",
     "iopub.status.busy": "2023-02-21T04:44:46.984359Z",
     "iopub.status.idle": "2023-02-21T04:44:47.249563Z",
     "shell.execute_reply": "2023-02-21T04:44:47.247942Z"
    },
    "papermill": {
     "duration": 0.285717,
     "end_time": "2023-02-21T04:44:47.253044",
     "exception": false,
     "start_time": "2023-02-21T04:44:46.967327",
     "status": "completed"
    },
    "tags": []
   },
   "outputs": [
    {
     "data": {
      "image/png": "[encoded data removed]",
      "text/plain": [
       "<Figure size 864x576 with 1 Axes>"
      ]
     },
     "metadata": {
      "needs_background": "light"
     },
     "output_type": "display_data"
    }
   ],
   "source": [
    "sns.scatterplot(x = 'Engine-Size' , y = 'CO2-Emissions' ,s=100 , data = df);\n",
    "plt.xlabel(\"Engine size\")\n",
    "plt.ylabel(\"Emission\")\n",
    "plt.show()"
   ]
  },
  {
   "cell_type": "code",
   "execution_count": 11,
   "id": "2b46289e",
   "metadata": {
    "execution": {
     "iopub.execute_input": "2023-02-21T04:44:47.291031Z",
     "iopub.status.busy": "2023-02-21T04:44:47.290168Z",
     "iopub.status.idle": "2023-02-21T04:44:47.551725Z",
     "shell.execute_reply": "2023-02-21T04:44:47.550676Z"
    },
    "papermill": {
     "duration": 0.283635,
     "end_time": "2023-02-21T04:44:47.554370",
     "exception": false,
     "start_time": "2023-02-21T04:44:47.270735",
     "status": "completed"
    },
    "tags": []
   },
   "outputs": [
    {
     "data": {
      "image/png": "[encoded data removed]",
      "text/plain": [
       "<Figure size 864x576 with 1 Axes>"
      ]
     },
     "metadata": {
      "needs_background": "light"
     },
     "output_type": "display_data"
    }
   ],
   "source": [
    "sns.scatterplot(x = 'Cylinders', y = 'CO2-Emissions' ,s=100 , data = df);\n",
    "plt.xlabel(\"Cylinders\")\n",
    "plt.ylabel(\"Emission\")\n",
    "plt.show()"
   ]
  },
  {
   "cell_type": "markdown",
   "id": "5ce1dade",
   "metadata": {
    "papermill": {
     "duration": 0.016941,
     "end_time": "2023-02-21T04:44:47.588568",
     "exception": false,
     "start_time": "2023-02-21T04:44:47.571627",
     "status": "completed"
    },
    "tags": []
   },
   "source": [
    "### Creating train and test dataset\n",
    "\n",
    "Train/Test Split involves splitting the dataset into training and testing sets that are mutually exclusive. After which, you train with the training set and test with the testing set. This will provide a more accurate evaluation on out-of-sample accuracy because the testing dataset is not part of the dataset that have been used to train the model. Therefore, it gives us a better understanding of how well our model generalizes on new data.\n",
    "\n",
    "This means that we know the outcome of each data point in the testing dataset, making it great to test with! Since this data has not been used to train the model, the model has no knowledge of the outcome of these data points. So, in essence, it is truly an out-of-sample testing.\n",
    "\n",
    "Let's split our dataset into train and test sets. 80% of the entire dataset will be used for training and 20% for testing. We create a mask to select random rows using np.random.rand() function:\n"
   ]
  },
  {
   "cell_type": "code",
   "execution_count": 12,
   "id": "c5242069",
   "metadata": {
    "execution": {
     "iopub.execute_input": "2023-02-21T04:44:47.624699Z",
     "iopub.status.busy": "2023-02-21T04:44:47.623981Z",
     "iopub.status.idle": "2023-02-21T04:44:47.629809Z",
     "shell.execute_reply": "2023-02-21T04:44:47.628919Z"
    },
    "papermill": {
     "duration": 0.02645,
     "end_time": "2023-02-21T04:44:47.632167",
     "exception": false,
     "start_time": "2023-02-21T04:44:47.605717",
     "status": "completed"
    },
    "tags": []
   },
   "outputs": [],
   "source": [
    "msk = np.random.rand(len(df)) < 0.8\n",
    "train = select_df[msk]\n",
    "test = select_df[~msk]"
   ]
  },
  {
   "cell_type": "markdown",
   "id": "ed4e2f29",
   "metadata": {
    "papermill": {
     "duration": 0.01646,
     "end_time": "2023-02-21T04:44:47.665289",
     "exception": false,
     "start_time": "2023-02-21T04:44:47.648829",
     "status": "completed"
    },
    "tags": []
   },
   "source": [
    "#### Modeling\n",
    "\n",
    "Using sklearn package to model data."
   ]
  },
  {
   "cell_type": "code",
   "execution_count": 13,
   "id": "d7578f05",
   "metadata": {
    "execution": {
     "iopub.execute_input": "2023-02-21T04:44:47.701711Z",
     "iopub.status.busy": "2023-02-21T04:44:47.700905Z",
     "iopub.status.idle": "2023-02-21T04:44:48.080810Z",
     "shell.execute_reply": "2023-02-21T04:44:48.079425Z"
    },
    "papermill": {
     "duration": 0.401294,
     "end_time": "2023-02-21T04:44:48.084021",
     "exception": false,
     "start_time": "2023-02-21T04:44:47.682727",
     "status": "completed"
    },
    "tags": []
   },
   "outputs": [
    {
     "name": "stdout",
     "output_type": "stream",
     "text": [
      "Coefficients:  [[36.53495394]]\n",
      "Intercept:  [138.05820035]\n"
     ]
    }
   ],
   "source": [
    "from sklearn import linear_model\n",
    "regr = linear_model.LinearRegression()\n",
    "train_x = np.asanyarray(train[['Engine-Size']])\n",
    "train_y = np.asanyarray(train[['CO2-Emissions']])\n",
    "regr.fit(train_x, train_y)\n",
    "# The coefficients\n",
    "print ('Coefficients: ', regr.coef_)\n",
    "print ('Intercept: ',regr.intercept_)"
   ]
  },
  {
   "cell_type": "markdown",
   "id": "f34d9e67",
   "metadata": {
    "papermill": {
     "duration": 0.016505,
     "end_time": "2023-02-21T04:44:48.117051",
     "exception": false,
     "start_time": "2023-02-21T04:44:48.100546",
     "status": "completed"
    },
    "tags": []
   },
   "source": [
    "As mentioned before, Coefficient and Intercept in the simple linear regression, are the parameters of the fit line. Given that it is a simple linear regression, with only 2 parameters, and knowing that the parameters are the intercept and slope of the line, sklearn can estimate them directly from our data. Notice that all of the data must be available to traverse and calculate the parameters.\n"
   ]
  },
  {
   "cell_type": "markdown",
   "id": "5b3dc953",
   "metadata": {
    "papermill": {
     "duration": 0.01608,
     "end_time": "2023-02-21T04:44:48.149307",
     "exception": false,
     "start_time": "2023-02-21T04:44:48.133227",
     "status": "completed"
    },
    "tags": []
   },
   "source": [
    "We can plot the fit line over the data:"
   ]
  },
  {
   "cell_type": "code",
   "execution_count": 14,
   "id": "df847f11",
   "metadata": {
    "execution": {
     "iopub.execute_input": "2023-02-21T04:44:48.184617Z",
     "iopub.status.busy": "2023-02-21T04:44:48.184124Z",
     "iopub.status.idle": "2023-02-21T04:44:48.471459Z",
     "shell.execute_reply": "2023-02-21T04:44:48.470173Z"
    },
    "papermill": {
     "duration": 0.309081,
     "end_time": "2023-02-21T04:44:48.474585",
     "exception": false,
     "start_time": "2023-02-21T04:44:48.165504",
     "status": "completed"
    },
    "tags": []
   },
   "outputs": [
    {
     "data": {
      "text/plain": [
       "Text(0, 0.5, 'Emission')"
      ]
     },
     "execution_count": 14,
     "metadata": {},
     "output_type": "execute_result"
    },
    {
     "data": {
      "image/png": "[encoded data removed]",
      "text/plain": [
       "<Figure size 864x576 with 1 Axes>"
      ]
     },
     "metadata": {
      "needs_background": "light"
     },
     "output_type": "display_data"
    }
   ],
   "source": [
    "sns.scatterplot(x ='Engine-Size', y= 'CO2-Emissions',data = train)\n",
    "plt.plot(train_x, regr.coef_[0][0]*train_x + regr.intercept_[0], '-r')\n",
    "plt.xlabel(\"Engine size\")\n",
    "plt.ylabel(\"Emission\")"
   ]
  },
  {
   "cell_type": "markdown",
   "id": "179ea2d0",
   "metadata": {
    "papermill": {
     "duration": 0.016788,
     "end_time": "2023-02-21T04:44:48.508674",
     "exception": false,
     "start_time": "2023-02-21T04:44:48.491886",
     "status": "completed"
    },
    "tags": []
   },
   "source": [
    "#### Evaluation\n",
    "\n",
    "We compare the actual values and predicted values to calculate the accuracy of a regression model. Evaluation metrics provide a key role in the development of a model, as it provides insight to areas that require improvement.\n",
    "\n",
    "There are different model evaluation metrics, lets use MSE here to calculate the accuracy of our model based on the test set:\n",
    "\n",
    "*   Mean Absolute Error: It is the mean of the absolute value of the errors. This is the easiest of the metrics to understand since it’s just average error.\n",
    "\n",
    "*   Mean Squared Error (MSE): Mean Squared Error (MSE) is the mean of the squared error. It’s more popular than Mean Absolute Error because the focus is geared more towards large errors. This is due to the squared term exponentially increasing larger errors in comparison to smaller ones.\n",
    "\n",
    "*   Root Mean Squared Error (RMSE).\n",
    "\n",
    "*   R-squared is not an error, but rather a popular metric to measure the performance of your regression model. It represents how close the data points are to the fitted regression line. The higher the R-squared value, the better the model fits your data. The best possible score is 1.0 and it can be negative (because the model can be arbitrarily worse).\n"
   ]
  },
  {
   "cell_type": "code",
   "execution_count": 15,
   "id": "ff120320",
   "metadata": {
    "execution": {
     "iopub.execute_input": "2023-02-21T04:44:48.545712Z",
     "iopub.status.busy": "2023-02-21T04:44:48.544800Z",
     "iopub.status.idle": "2023-02-21T04:44:48.557118Z",
     "shell.execute_reply": "2023-02-21T04:44:48.555285Z"
    },
    "papermill": {
     "duration": 0.03539,
     "end_time": "2023-02-21T04:44:48.561205",
     "exception": false,
     "start_time": "2023-02-21T04:44:48.525815",
     "status": "completed"
    },
    "tags": []
   },
   "outputs": [
    {
     "name": "stdout",
     "output_type": "stream",
     "text": [
      "Mean absolute error: 23.08\n",
      "Residual sum of squares (MSE): 860.58\n",
      "R2-score: 0.73\n"
     ]
    }
   ],
   "source": [
    "from sklearn.metrics import r2_score\n",
    "\n",
    "test_x = np.asanyarray(test[['Engine-Size']])\n",
    "test_y = np.asanyarray(test[['CO2-Emissions']])\n",
    "test_y_ = regr.predict(test_x)\n",
    "\n",
    "print(\"Mean absolute error: %.2f\" % np.mean(np.absolute(test_y_ - test_y)))\n",
    "print(\"Residual sum of squares (MSE): %.2f\" % np.mean((test_y_ - test_y) ** 2))\n",
    "print(\"R2-score: %.2f\" % r2_score(test_y , test_y_) )"
   ]
  },
  {
   "cell_type": "markdown",
   "id": "5d3691d4",
   "metadata": {
    "papermill": {
     "duration": 0.017054,
     "end_time": "2023-02-21T04:44:48.597807",
     "exception": false,
     "start_time": "2023-02-21T04:44:48.580753",
     "status": "completed"
    },
    "tags": []
   },
   "source": [
    "Lets see what the evaluation metrics are if we trained a regression model using the `FUELCONSUMPTION_COMB` feature.\n",
    "\n",
    "Start by selecting `FUELCONSUMPTION_COMB` as the train_x data from the `train` dataframe, then select `FUELCONSUMPTION_COMB` as the test_x data from the `test` dataframe\n"
   ]
  },
  {
   "cell_type": "code",
   "execution_count": 16,
   "id": "41b4daca",
   "metadata": {
    "execution": {
     "iopub.execute_input": "2023-02-21T04:44:48.635061Z",
     "iopub.status.busy": "2023-02-21T04:44:48.634544Z",
     "iopub.status.idle": "2023-02-21T04:44:48.642344Z",
     "shell.execute_reply": "2023-02-21T04:44:48.641138Z"
    },
    "papermill": {
     "duration": 0.029484,
     "end_time": "2023-02-21T04:44:48.644708",
     "exception": false,
     "start_time": "2023-02-21T04:44:48.615224",
     "status": "completed"
    },
    "tags": []
   },
   "outputs": [],
   "source": [
    "train_x = train[[\"Fuel-Consumption-Comb\"]]\n",
    "\n",
    "test_x = test[[\"Fuel-Consumption-Comb\"]]\n"
   ]
  },
  {
   "cell_type": "markdown",
   "id": "f539bde2",
   "metadata": {
    "papermill": {
     "duration": 0.018461,
     "end_time": "2023-02-21T04:44:48.681816",
     "exception": false,
     "start_time": "2023-02-21T04:44:48.663355",
     "status": "completed"
    },
    "tags": []
   },
   "source": [
    "Now train a Linear Regression Model using the `train_x` you created and the `train_y` created previously"
   ]
  },
  {
   "cell_type": "code",
   "execution_count": 17,
   "id": "c296c7a9",
   "metadata": {
    "execution": {
     "iopub.execute_input": "2023-02-21T04:44:48.718979Z",
     "iopub.status.busy": "2023-02-21T04:44:48.717729Z",
     "iopub.status.idle": "2023-02-21T04:44:48.730794Z",
     "shell.execute_reply": "2023-02-21T04:44:48.729511Z"
    },
    "papermill": {
     "duration": 0.034731,
     "end_time": "2023-02-21T04:44:48.733750",
     "exception": false,
     "start_time": "2023-02-21T04:44:48.699019",
     "status": "completed"
    },
    "tags": []
   },
   "outputs": [
    {
     "data": {
      "text/plain": [
       "LinearRegression()"
      ]
     },
     "execution_count": 17,
     "metadata": {},
     "output_type": "execute_result"
    }
   ],
   "source": [
    "regr = linear_model.LinearRegression()\n",
    "regr.fit(train_x, train_y)"
   ]
  },
  {
   "cell_type": "markdown",
   "id": "442c3f86",
   "metadata": {
    "papermill": {
     "duration": 0.017146,
     "end_time": "2023-02-21T04:44:48.768476",
     "exception": false,
     "start_time": "2023-02-21T04:44:48.751330",
     "status": "completed"
    },
    "tags": []
   },
   "source": [
    "Find the predictions using the model's `predict` function and the `test_x` data"
   ]
  },
  {
   "cell_type": "code",
   "execution_count": 18,
   "id": "97ac6d14",
   "metadata": {
    "execution": {
     "iopub.execute_input": "2023-02-21T04:44:48.806368Z",
     "iopub.status.busy": "2023-02-21T04:44:48.805799Z",
     "iopub.status.idle": "2023-02-21T04:44:48.813940Z",
     "shell.execute_reply": "2023-02-21T04:44:48.812409Z"
    },
    "papermill": {
     "duration": 0.030916,
     "end_time": "2023-02-21T04:44:48.816842",
     "exception": false,
     "start_time": "2023-02-21T04:44:48.785926",
     "status": "completed"
    },
    "tags": []
   },
   "outputs": [],
   "source": [
    "predictions =regr.predict(test_x)"
   ]
  },
  {
   "cell_type": "markdown",
   "id": "3b6eff60",
   "metadata": {
    "papermill": {
     "duration": 0.016957,
     "end_time": "2023-02-21T04:44:48.851333",
     "exception": false,
     "start_time": "2023-02-21T04:44:48.834376",
     "status": "completed"
    },
    "tags": []
   },
   "source": [
    "Finally use the `predictions` and the `test_y` data and find the Mean Absolute Error value using the `np.absolute` and `np.mean` function like done previously\n"
   ]
  },
  {
   "cell_type": "code",
   "execution_count": 19,
   "id": "a0d030fb",
   "metadata": {
    "execution": {
     "iopub.execute_input": "2023-02-21T04:44:48.888708Z",
     "iopub.status.busy": "2023-02-21T04:44:48.888176Z",
     "iopub.status.idle": "2023-02-21T04:44:48.895529Z",
     "shell.execute_reply": "2023-02-21T04:44:48.894134Z"
    },
    "papermill": {
     "duration": 0.029449,
     "end_time": "2023-02-21T04:44:48.898567",
     "exception": false,
     "start_time": "2023-02-21T04:44:48.869118",
     "status": "completed"
    },
    "tags": []
   },
   "outputs": [
    {
     "name": "stdout",
     "output_type": "stream",
     "text": [
      "Mean Absolute Error: 11.27\n"
     ]
    }
   ],
   "source": [
    "print(\"Mean Absolute Error: %.2f\" % np.mean(np.absolute(predictions - test_y)))"
   ]
  },
  {
   "cell_type": "markdown",
   "id": "a8a79a5a",
   "metadata": {
    "papermill": {
     "duration": 0.018815,
     "end_time": "2023-02-21T04:44:48.935199",
     "exception": false,
     "start_time": "2023-02-21T04:44:48.916384",
     "status": "completed"
    },
    "tags": []
   },
   "source": [
    "# Multiple Linear Regression\n",
    "\n",
    "## Objectives\n",
    "\n",
    "\n",
    "*   Use scikit-learn to implement Multiple Linear Regression\n",
    "*   Create a model, train it, test it and use the model"
   ]
  },
  {
   "cell_type": "markdown",
   "id": "76136afd",
   "metadata": {
    "papermill": {
     "duration": 0.017308,
     "end_time": "2023-02-21T04:44:48.970306",
     "exception": false,
     "start_time": "2023-02-21T04:44:48.952998",
     "status": "completed"
    },
    "tags": []
   },
   "source": [
    "Selecting some features that we want to use for regression."
   ]
  },
  {
   "cell_type": "code",
   "execution_count": 20,
   "id": "62e8dfb9",
   "metadata": {
    "execution": {
     "iopub.execute_input": "2023-02-21T04:44:49.008886Z",
     "iopub.status.busy": "2023-02-21T04:44:49.007625Z",
     "iopub.status.idle": "2023-02-21T04:44:49.015646Z",
     "shell.execute_reply": "2023-02-21T04:44:49.014243Z"
    },
    "papermill": {
     "duration": 0.029699,
     "end_time": "2023-02-21T04:44:49.018327",
     "exception": false,
     "start_time": "2023-02-21T04:44:48.988628",
     "status": "completed"
    },
    "tags": []
   },
   "outputs": [],
   "source": [
    "select_df2 = df[['Engine-Size','Cylinders','Fuel-Consumption-City','Fuel-Consumption-Hwy','Fuel-Consumption-Comb','CO2-Emissions']]"
   ]
  },
  {
   "cell_type": "markdown",
   "id": "80b642fe",
   "metadata": {
    "papermill": {
     "duration": 0.017901,
     "end_time": "2023-02-21T04:44:49.055417",
     "exception": false,
     "start_time": "2023-02-21T04:44:49.037516",
     "status": "completed"
    },
    "tags": []
   },
   "source": [
    "Let's split our dataset into train and test sets. Around 80% of the entire dataset will be used for training and 20% for testing. We create a mask to select random rows using the  **np.random.rand()** function"
   ]
  },
  {
   "cell_type": "code",
   "execution_count": 21,
   "id": "7b8a31e7",
   "metadata": {
    "execution": {
     "iopub.execute_input": "2023-02-21T04:44:49.092926Z",
     "iopub.status.busy": "2023-02-21T04:44:49.092441Z",
     "iopub.status.idle": "2023-02-21T04:44:49.100295Z",
     "shell.execute_reply": "2023-02-21T04:44:49.099307Z"
    },
    "papermill": {
     "duration": 0.02957,
     "end_time": "2023-02-21T04:44:49.103042",
     "exception": false,
     "start_time": "2023-02-21T04:44:49.073472",
     "status": "completed"
    },
    "tags": []
   },
   "outputs": [],
   "source": [
    "msk = np.random.rand(len(df)) < 0.8\n",
    "train1 = select_df2[msk]\n",
    "test1 = select_df2[~msk]"
   ]
  },
  {
   "cell_type": "markdown",
   "id": "f931902a",
   "metadata": {
    "papermill": {
     "duration": 0.017351,
     "end_time": "2023-02-21T04:44:49.137729",
     "exception": false,
     "start_time": "2023-02-21T04:44:49.120378",
     "status": "completed"
    },
    "tags": []
   },
   "source": [
    "When more than one independent variable is present, the process is called multiple linear regression. An example of multiple linear regression is predicting co2emission using the features FUELCONSUMPTION_COMB, EngineSize and Cylinders of cars. The good thing here is that multiple linear regression model is the extension of the simple linear regression model."
   ]
  },
  {
   "cell_type": "code",
   "execution_count": 22,
   "id": "5a67890f",
   "metadata": {
    "execution": {
     "iopub.execute_input": "2023-02-21T04:44:49.175333Z",
     "iopub.status.busy": "2023-02-21T04:44:49.174118Z",
     "iopub.status.idle": "2023-02-21T04:44:49.189490Z",
     "shell.execute_reply": "2023-02-21T04:44:49.188051Z"
    },
    "papermill": {
     "duration": 0.037117,
     "end_time": "2023-02-21T04:44:49.192180",
     "exception": false,
     "start_time": "2023-02-21T04:44:49.155063",
     "status": "completed"
    },
    "tags": []
   },
   "outputs": [
    {
     "name": "stdout",
     "output_type": "stream",
     "text": [
      "Coefficients:  [[ 4.43829918  4.07483259 15.77699376]]\n"
     ]
    }
   ],
   "source": [
    "from sklearn import linear_model\n",
    "regr = linear_model.LinearRegression()\n",
    "x = np.asanyarray(train1[['Engine-Size','Cylinders','Fuel-Consumption-Comb']])\n",
    "y = np.asanyarray(train1[['CO2-Emissions']])\n",
    "regr.fit (x, y)\n",
    "# The coefficients\n",
    "print ('Coefficients: ', regr.coef_)"
   ]
  },
  {
   "cell_type": "markdown",
   "id": "b0a42001",
   "metadata": {
    "papermill": {
     "duration": 0.017147,
     "end_time": "2023-02-21T04:44:49.227039",
     "exception": false,
     "start_time": "2023-02-21T04:44:49.209892",
     "status": "completed"
    },
    "tags": []
   },
   "source": [
    "As mentioned before, **Coefficient** and **Intercept**  are the parameters of the fitted line.\n",
    "Given that it is a multiple linear regression model with 3 parameters and that the parameters are the intercept and coefficients of the hyperplane, sklearn can estimate them from our data. Scikit-learn uses plain Ordinary Least Squares method to solve this problem.\n",
    "\n",
    "#### Ordinary Least Squares (OLS)\n",
    "\n",
    "OLS is a method for estimating the unknown parameters in a linear regression model. OLS chooses the parameters of a linear function of a set of explanatory variables by minimizing the sum of the squares of the differences between the target dependent variable and those predicted by the linear function. In other words, it tries to minimizes the sum of squared errors (SSE) or mean squared error (MSE) between the target variable (y) and our predicted output ($\\hat{y}$) over all samples in the dataset.\n",
    "\n",
    "OLS can find the best parameters using of the following methods:\n",
    "\n",
    "*   Solving the model parameters analytically using closed-form equations\n",
    "*   Using an optimization algorithm (Gradient Descent, Stochastic Gradient Descent, Newton’s Method, etc.)\n"
   ]
  },
  {
   "cell_type": "markdown",
   "id": "c08382a5",
   "metadata": {
    "papermill": {
     "duration": 0.017179,
     "end_time": "2023-02-21T04:44:49.261988",
     "exception": false,
     "start_time": "2023-02-21T04:44:49.244809",
     "status": "completed"
    },
    "tags": []
   },
   "source": [
    "<h2 id=\"prediction\">Prediction</h2>"
   ]
  },
  {
   "cell_type": "code",
   "execution_count": 23,
   "id": "af2c6a6c",
   "metadata": {
    "execution": {
     "iopub.execute_input": "2023-02-21T04:44:49.299690Z",
     "iopub.status.busy": "2023-02-21T04:44:49.298916Z",
     "iopub.status.idle": "2023-02-21T04:44:49.318540Z",
     "shell.execute_reply": "2023-02-21T04:44:49.316926Z"
    },
    "papermill": {
     "duration": 0.043033,
     "end_time": "2023-02-21T04:44:49.322446",
     "exception": false,
     "start_time": "2023-02-21T04:44:49.279413",
     "status": "completed"
    },
    "tags": []
   },
   "outputs": [
    {
     "name": "stdout",
     "output_type": "stream",
     "text": [
      "Residual sum of squares: 347.05\n",
      "Variance score: 0.91\n"
     ]
    },
    {
     "name": "stderr",
     "output_type": "stream",
     "text": [
      "/opt/conda/lib/python3.7/site-packages/sklearn/base.py:444: UserWarning: X has feature names, but LinearRegression was fitted without feature names\n",
      "  f\"X has feature names, but {self.__class__.__name__} was fitted without\"\n"
     ]
    }
   ],
   "source": [
    "y_hat= regr.predict(test1[['Engine-Size','Cylinders','Fuel-Consumption-Comb']])\n",
    "x = np.asanyarray(test1[['Engine-Size','Cylinders','Fuel-Consumption-Comb']])\n",
    "y = np.asanyarray(test1[['CO2-Emissions']])\n",
    "print(\"Residual sum of squares: %.2f\"\n",
    "      % np.mean((y_hat - y) ** 2))\n",
    "\n",
    "# Explained variance score: 1 is perfect prediction\n",
    "print('Variance score: %.2f' % regr.score(x, y))"
   ]
  },
  {
   "cell_type": "markdown",
   "id": "6b7a424c",
   "metadata": {
    "papermill": {
     "duration": 0.01728,
     "end_time": "2023-02-21T04:44:49.358315",
     "exception": false,
     "start_time": "2023-02-21T04:44:49.341035",
     "status": "completed"
    },
    "tags": []
   },
   "source": [
    "**Explained variance regression score:**\\\n",
    "Let $\\hat{y}$ be the estimated target output, y the corresponding (correct) target output, and Var be the Variance (the square of the standard deviation). Then the explained variance is estimated as follows:\n",
    "\n",
    "$\\texttt{explainedVariance}(y, \\hat{y}) = 1 - \\frac{Var{ y - \\hat{y}}}{Var{y}}$\\\n",
    "The best possible score is 1.0, the lower values are worse."
   ]
  },
  {
   "cell_type": "markdown",
   "id": "fbd61f29",
   "metadata": {
    "papermill": {
     "duration": 0.01749,
     "end_time": "2023-02-21T04:44:49.393555",
     "exception": false,
     "start_time": "2023-02-21T04:44:49.376065",
     "status": "completed"
    },
    "tags": []
   },
   "source": [
    " This time use FUELCONSUMPTION_CITY and FUELCONSUMPTION_HWY instead of FUELCONSUMPTION_COMB. Does it result in better accuracy? "
   ]
  },
  {
   "cell_type": "code",
   "execution_count": 24,
   "id": "ab695e3a",
   "metadata": {
    "execution": {
     "iopub.execute_input": "2023-02-21T04:44:49.432881Z",
     "iopub.status.busy": "2023-02-21T04:44:49.432391Z",
     "iopub.status.idle": "2023-02-21T04:44:49.451711Z",
     "shell.execute_reply": "2023-02-21T04:44:49.450045Z"
    },
    "papermill": {
     "duration": 0.042129,
     "end_time": "2023-02-21T04:44:49.454550",
     "exception": false,
     "start_time": "2023-02-21T04:44:49.412421",
     "status": "completed"
    },
    "tags": []
   },
   "outputs": [
    {
     "name": "stdout",
     "output_type": "stream",
     "text": [
      "Coefficients:  [[4.51720316 4.01332834 8.66935496 7.10095174]]\n",
      "Residual sum of squares: 351.55\n",
      "Variance score: 0.91\n"
     ]
    },
    {
     "name": "stderr",
     "output_type": "stream",
     "text": [
      "/opt/conda/lib/python3.7/site-packages/sklearn/base.py:444: UserWarning: X has feature names, but LinearRegression was fitted without feature names\n",
      "  f\"X has feature names, but {self.__class__.__name__} was fitted without\"\n"
     ]
    }
   ],
   "source": [
    "regr = linear_model.LinearRegression()\n",
    "x = np.asanyarray(train1[['Engine-Size','Cylinders','Fuel-Consumption-City','Fuel-Consumption-Hwy']])\n",
    "y = np.asanyarray(train1[['CO2-Emissions']])\n",
    "regr.fit (x, y)\n",
    "print ('Coefficients: ', regr.coef_)\n",
    "y_= regr.predict(test1[['Engine-Size','Cylinders','Fuel-Consumption-City','Fuel-Consumption-Hwy']])\n",
    "x = np.asanyarray(test1[['Engine-Size','Cylinders','Fuel-Consumption-City','Fuel-Consumption-Hwy']])\n",
    "y = np.asanyarray(test1[['CO2-Emissions']])\n",
    "print(\"Residual sum of squares: %.2f\"% np.mean((y_ - y) ** 2))\n",
    "print('Variance score: %.2f' % regr.score(x, y))"
   ]
  },
  {
   "cell_type": "markdown",
   "id": "d021e750",
   "metadata": {
    "papermill": {
     "duration": 0.017885,
     "end_time": "2023-02-21T04:44:49.490532",
     "exception": false,
     "start_time": "2023-02-21T04:44:49.472647",
     "status": "completed"
    },
    "tags": []
   },
   "source": [
    "<h2 id=\"polynomial_regression\">Polynomial regression</h2>"
   ]
  },
  {
   "cell_type": "markdown",
   "id": "282a4aea",
   "metadata": {
    "papermill": {
     "duration": 0.018257,
     "end_time": "2023-02-21T04:44:49.527994",
     "exception": false,
     "start_time": "2023-02-21T04:44:49.509737",
     "status": "completed"
    },
    "tags": []
   },
   "source": [
    "Sometimes, the trend of data is not really linear, and looks curvy. In this case we can use Polynomial regression methods. In fact, many different regressions exist that can be used to fit whatever the dataset looks like, such as quadratic, cubic, and so on, and it can go on and on to infinite degrees.\n",
    "\n",
    "In essence, we can call all of these, polynomial regression, where the relationship between the independent variable x and the dependent variable y is modeled as an nth degree polynomial in x. Lets say you want to have a polynomial regression (let's make 2 degree polynomial):\n",
    "\n",
    "$$y = b + \\theta\\_1  x + \\theta\\_2 x^2$$\n",
    "\n",
    "Now, the question is: how we can fit our data on this equation while we have only x values, such as **Engine Size**?\n",
    "Well, we can create a few additional features: 1, $x$, and $x^2$.\n",
    "\n",
    "**PolynomialFeatures()** function in Scikit-learn library, drives a new feature sets from the original feature set. That is, a matrix will be generated consisting of all polynomial combinations of the features with degree less than or equal to the specified degree. For example, lets say the original feature set has only one feature, *ENGINESIZE*. Now, if we select the degree of the polynomial to be 2, then it generates 3 features, degree=0, degree=1 and degree=2:\n"
   ]
  },
  {
   "cell_type": "code",
   "execution_count": 25,
   "id": "bdb20134",
   "metadata": {
    "execution": {
     "iopub.execute_input": "2023-02-21T04:44:49.566487Z",
     "iopub.status.busy": "2023-02-21T04:44:49.566001Z",
     "iopub.status.idle": "2023-02-21T04:44:49.582479Z",
     "shell.execute_reply": "2023-02-21T04:44:49.581052Z"
    },
    "papermill": {
     "duration": 0.039428,
     "end_time": "2023-02-21T04:44:49.585397",
     "exception": false,
     "start_time": "2023-02-21T04:44:49.545969",
     "status": "completed"
    },
    "tags": []
   },
   "outputs": [
    {
     "data": {
      "text/plain": [
       "array([[ 1.  ,  2.4 ,  5.76],\n",
       "       [ 1.  ,  3.5 , 12.25],\n",
       "       [ 1.  ,  3.  ,  9.  ],\n",
       "       ...,\n",
       "       [ 1.  ,  2.  ,  4.  ],\n",
       "       [ 1.  ,  2.  ,  4.  ],\n",
       "       [ 1.  ,  2.  ,  4.  ]])"
      ]
     },
     "execution_count": 25,
     "metadata": {},
     "output_type": "execute_result"
    }
   ],
   "source": [
    "from sklearn.preprocessing import PolynomialFeatures\n",
    "from sklearn import linear_model\n",
    "train_x = np.asanyarray(train[['Engine-Size']])\n",
    "train_y = np.asanyarray(train[['CO2-Emissions']])\n",
    "\n",
    "test_x = np.asanyarray(test[['Engine-Size']])\n",
    "test_y = np.asanyarray(test[['CO2-Emissions']])\n",
    "\n",
    "\n",
    "poly = PolynomialFeatures(degree=2)\n",
    "train_x_poly = poly.fit_transform(train_x)\n",
    "train_x_poly"
   ]
  },
  {
   "cell_type": "markdown",
   "id": "daee046c",
   "metadata": {
    "papermill": {
     "duration": 0.017647,
     "end_time": "2023-02-21T04:44:49.621300",
     "exception": false,
     "start_time": "2023-02-21T04:44:49.603653",
     "status": "completed"
    },
    "tags": []
   },
   "source": [
    "**fit_transform** takes our x values, and output a list of our data raised from power of 0 to power of 2 (since we set the degree of our polynomial to 2).\n",
    "\n",
    "The equation and the sample example is displayed below.\n",
    "\n",
    "$$\n",
    "\\begin{bmatrix}\n",
    "v\\_1\\\\\\\\\n",
    "v\\_2\\\\\n",
    "\\vdots\\\\\n",
    "v_n\n",
    "\\end{bmatrix}\\longrightarrow \\begin{bmatrix}\n",
    "\\[ 1 & v\\_1 & v\\_1^2]\\\\\n",
    "\\[ 1 & v\\_2 & v\\_2^2]\\\\\n",
    "\\vdots & \\vdots & \\vdots\\\\\n",
    "\\[ 1 & v_n & v_n^2]\n",
    "\\end{bmatrix}\n",
    "$$\n",
    "\n",
    "$$\n",
    "\\begin{bmatrix}\n",
    "2.\\\\\n",
    "2.4\\\\\n",
    "1.5\\\\\n",
    "\\vdots\n",
    "\\end{bmatrix} \\longrightarrow \\begin{bmatrix}\n",
    "\\[ 1 & 2. & 4.]\\\\\n",
    "\\[ 1 & 2.4 & 5.76]\\\\\n",
    "\\[ 1 & 1.5 & 2.25]\\\\\n",
    "\\vdots & \\vdots & \\vdots\\\\\n",
    "\\end{bmatrix}\n",
    "$$"
   ]
  },
  {
   "cell_type": "markdown",
   "id": "72f3aced",
   "metadata": {
    "papermill": {
     "duration": 0.017766,
     "end_time": "2023-02-21T04:44:49.657185",
     "exception": false,
     "start_time": "2023-02-21T04:44:49.639419",
     "status": "completed"
    },
    "tags": []
   },
   "source": [
    "It looks like feature sets for multiple linear regression analysis, right? Yes. It Does.\n",
    "Indeed, Polynomial regression is a special case of linear regression, with the main idea of how do you select your features. Just consider replacing the  $x$ with $x\\_1$, $x\\_1^2$ with $x\\_2$, and so on. Then the 2nd degree equation would be turn into:\n",
    "\n",
    "$$y = b + \\theta\\_1  x\\_1 + \\theta\\_2 x\\_2$$\n",
    "\n",
    "Now, we can deal with it as a 'linear regression' problem. Therefore, this polynomial regression is considered to be a special case of traditional multiple linear regression. So, you can use the same mechanism as linear regression to solve such problems.\n",
    "\n",
    "so we can use **LinearRegression()** function to solve it:"
   ]
  },
  {
   "cell_type": "code",
   "execution_count": 26,
   "id": "421db5a5",
   "metadata": {
    "execution": {
     "iopub.execute_input": "2023-02-21T04:44:49.695536Z",
     "iopub.status.busy": "2023-02-21T04:44:49.695045Z",
     "iopub.status.idle": "2023-02-21T04:44:49.704928Z",
     "shell.execute_reply": "2023-02-21T04:44:49.703382Z"
    },
    "papermill": {
     "duration": 0.0325,
     "end_time": "2023-02-21T04:44:49.707748",
     "exception": false,
     "start_time": "2023-02-21T04:44:49.675248",
     "status": "completed"
    },
    "tags": []
   },
   "outputs": [
    {
     "name": "stdout",
     "output_type": "stream",
     "text": [
      "Coefficients:  [[ 0.         53.84735572 -2.34913635]]\n",
      "Intercept:  [111.05933679]\n"
     ]
    }
   ],
   "source": [
    "clf = linear_model.LinearRegression()\n",
    "train_y_ = clf.fit(train_x_poly, train_y)\n",
    "# The coefficients\n",
    "print ('Coefficients: ', clf.coef_)\n",
    "print ('Intercept: ',clf.intercept_)"
   ]
  },
  {
   "cell_type": "markdown",
   "id": "3fed6e87",
   "metadata": {
    "papermill": {
     "duration": 0.020368,
     "end_time": "2023-02-21T04:44:49.747207",
     "exception": false,
     "start_time": "2023-02-21T04:44:49.726839",
     "status": "completed"
    },
    "tags": []
   },
   "source": [
    "As mentioned before, **Coefficient** and **Intercept** , are the parameters of the fit curvy line.\n",
    "Given that it is a typical multiple linear regression, with 3 parameters, and knowing that the parameters are the intercept and coefficients of hyperplane, sklearn has estimated them from our new set of feature sets. Lets plot it:"
   ]
  },
  {
   "cell_type": "code",
   "execution_count": 27,
   "id": "d6226315",
   "metadata": {
    "execution": {
     "iopub.execute_input": "2023-02-21T04:44:49.786400Z",
     "iopub.status.busy": "2023-02-21T04:44:49.785934Z",
     "iopub.status.idle": "2023-02-21T04:44:50.007244Z",
     "shell.execute_reply": "2023-02-21T04:44:50.005773Z"
    },
    "papermill": {
     "duration": 0.244522,
     "end_time": "2023-02-21T04:44:50.010267",
     "exception": false,
     "start_time": "2023-02-21T04:44:49.765745",
     "status": "completed"
    },
    "tags": []
   },
   "outputs": [
    {
     "data": {
      "text/plain": [
       "Text(0, 0.5, 'Emission')"
      ]
     },
     "execution_count": 27,
     "metadata": {},
     "output_type": "execute_result"
    },
    {
     "data": {
      "image/png": "[encoded data removed]",
      "text/plain": [
       "<Figure size 864x576 with 1 Axes>"
      ]
     },
     "metadata": {
      "needs_background": "light"
     },
     "output_type": "display_data"
    }
   ],
   "source": [
    "sns.scatterplot(x ='Engine-Size', y= 'CO2-Emissions',data = train)\n",
    "XX = np.arange(0.0, 10.0, 0.1)\n",
    "yy = clf.intercept_[0]+ clf.coef_[0][1]*XX+ clf.coef_[0][2]*np.power(XX, 2)\n",
    "plt.plot(XX, yy, '-r' )\n",
    "plt.xlabel(\"Engine size\")\n",
    "plt.ylabel(\"Emission\")"
   ]
  },
  {
   "cell_type": "markdown",
   "id": "66a1195e",
   "metadata": {
    "papermill": {
     "duration": 0.018742,
     "end_time": "2023-02-21T04:44:50.048347",
     "exception": false,
     "start_time": "2023-02-21T04:44:50.029605",
     "status": "completed"
    },
    "tags": []
   },
   "source": [
    "<h2 id=\"evaluation\">Evaluation</h2>"
   ]
  },
  {
   "cell_type": "code",
   "execution_count": 28,
   "id": "d18c3392",
   "metadata": {
    "execution": {
     "iopub.execute_input": "2023-02-21T04:44:50.089487Z",
     "iopub.status.busy": "2023-02-21T04:44:50.088753Z",
     "iopub.status.idle": "2023-02-21T04:44:50.098645Z",
     "shell.execute_reply": "2023-02-21T04:44:50.097315Z"
    },
    "papermill": {
     "duration": 0.033595,
     "end_time": "2023-02-21T04:44:50.101001",
     "exception": false,
     "start_time": "2023-02-21T04:44:50.067406",
     "status": "completed"
    },
    "tags": []
   },
   "outputs": [
    {
     "name": "stdout",
     "output_type": "stream",
     "text": [
      "Mean absolute error: 22.31\n",
      "Residual sum of squares (MSE): 802.20\n",
      "R2-score: 0.75\n"
     ]
    }
   ],
   "source": [
    "from sklearn.metrics import r2_score\n",
    "\n",
    "test_x_poly = poly.transform(test_x)\n",
    "test_y_ = clf.predict(test_x_poly)\n",
    "\n",
    "print(\"Mean absolute error: %.2f\" % np.mean(np.absolute(test_y_ - test_y)))\n",
    "print(\"Residual sum of squares (MSE): %.2f\" % np.mean((test_y_ - test_y) ** 2))\n",
    "print(\"R2-score: %.2f\" % r2_score(test_y,test_y_ ) )"
   ]
  },
  {
   "cell_type": "markdown",
   "id": "00e1937a",
   "metadata": {
    "papermill": {
     "duration": 0.018811,
     "end_time": "2023-02-21T04:44:50.139173",
     "exception": false,
     "start_time": "2023-02-21T04:44:50.120362",
     "status": "completed"
    },
    "tags": []
   },
   "source": [
    " This time with degree three (cubic). Does it result in better accuracy?"
   ]
  },
  {
   "cell_type": "code",
   "execution_count": 29,
   "id": "4d219c59",
   "metadata": {
    "execution": {
     "iopub.execute_input": "2023-02-21T04:44:50.179915Z",
     "iopub.status.busy": "2023-02-21T04:44:50.179427Z",
     "iopub.status.idle": "2023-02-21T04:44:50.452405Z",
     "shell.execute_reply": "2023-02-21T04:44:50.450947Z"
    },
    "papermill": {
     "duration": 0.297275,
     "end_time": "2023-02-21T04:44:50.455802",
     "exception": false,
     "start_time": "2023-02-21T04:44:50.158527",
     "status": "completed"
    },
    "tags": []
   },
   "outputs": [
    {
     "name": "stdout",
     "output_type": "stream",
     "text": [
      "Coefficients:  [[  0.         118.59779146 -21.05679621   1.62018733]]\n",
      "Intercept:  [44.78260408]\n",
      "Mean absolute error: 21.67\n",
      "Residual sum of squares (MSE): 807.79\n",
      "R2-score: 0.75\n"
     ]
    },
    {
     "data": {
      "image/png": "[encoded data removed]",
      "text/plain": [
       "<Figure size 864x576 with 1 Axes>"
      ]
     },
     "metadata": {
      "needs_background": "light"
     },
     "output_type": "display_data"
    }
   ],
   "source": [
    "poly3 = PolynomialFeatures(degree=3)\n",
    "train_x_poly3 = poly3.fit_transform(train_x)\n",
    "clf3 = linear_model.LinearRegression()\n",
    "train_y3_ = clf3.fit(train_x_poly3, train_y)\n",
    "\n",
    "# The coefficients\n",
    "print ('Coefficients: ', clf3.coef_)\n",
    "print ('Intercept: ',clf3.intercept_)\n",
    "sns.scatterplot(x ='Engine-Size', y= 'CO2-Emissions',data = train)\n",
    "XX = np.arange(0.0, 10.0, 0.1)\n",
    "yy = clf3.intercept_[0]+ clf3.coef_[0][1]*XX + clf3.coef_[0][2]*np.power(XX, 2) + clf3.coef_[0][3]*np.power(XX, 3)\n",
    "plt.plot(XX, yy, '-r' )\n",
    "plt.xlabel(\"Engine size\")\n",
    "plt.ylabel(\"Emission\")\n",
    "test_x_poly3 = poly3.transform(test_x)\n",
    "test_y3_ = clf3.predict(test_x_poly3)\n",
    "print(\"Mean absolute error: %.2f\" % np.mean(np.absolute(test_y3_ - test_y)))\n",
    "print(\"Residual sum of squares (MSE): %.2f\" % np.mean((test_y3_ - test_y) ** 2))\n",
    "print(\"R2-score: %.2f\" % r2_score(test_y,test_y3_ ) )"
   ]
  },
  {
   "cell_type": "code",
   "execution_count": null,
   "id": "c42ad485",
   "metadata": {
    "papermill": {
     "duration": 0.022203,
     "end_time": "2023-02-21T04:44:50.499572",
     "exception": false,
     "start_time": "2023-02-21T04:44:50.477369",
     "status": "completed"
    },
    "tags": []
   },
   "outputs": [],
   "source": []
  },
  {
   "cell_type": "code",
   "execution_count": null,
   "id": "b0dbdc70",
   "metadata": {
    "papermill": {
     "duration": 0.020672,
     "end_time": "2023-02-21T04:44:50.540400",
     "exception": false,
     "start_time": "2023-02-21T04:44:50.519728",
     "status": "completed"
    },
    "tags": []
   },
   "outputs": [],
   "source": []
  },
  {
   "cell_type": "code",
   "execution_count": null,
   "id": "3e37d919",
   "metadata": {
    "papermill": {
     "duration": 0.021483,
     "end_time": "2023-02-21T04:44:50.582045",
     "exception": false,
     "start_time": "2023-02-21T04:44:50.560562",
     "status": "completed"
    },
    "tags": []
   },
   "outputs": [],
   "source": []
  }
 ],
 "metadata": {
  "kernelspec": {
   "display_name": "Python 3 (ipykernel)",
   "language": "python",
   "name": "python3"
  },
  "language_info": {
   "codemirror_mode": {
    "name": "ipython",
    "version": 3
   },
   "file_extension": ".py",
   "mimetype": "text/x-python",
   "name": "python",
   "nbconvert_exporter": "python",
   "pygments_lexer": "ipython3",
   "version": "3.12.0"
  },
  "papermill": {
   "default_parameters": {},
   "duration": 19.342351,
   "end_time": "2023-02-21T04:44:51.629734",
   "environment_variables": {},
   "exception": null,
   "input_path": "__notebook__.ipynb",
   "output_path": "__notebook__.ipynb",
   "parameters": {},
   "start_time": "2023-02-21T04:44:32.287383",
   "version": "2.3.4"
  }
 },
 "nbformat": 4,
 "nbformat_minor": 5
}
