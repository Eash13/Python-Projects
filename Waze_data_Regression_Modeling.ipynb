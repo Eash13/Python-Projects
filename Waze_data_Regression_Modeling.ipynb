{
 "cells": [
  {
   "cell_type": "markdown",
   "id": "a9db8829",
   "metadata": {
    "papermill": {
     "duration": 0.019488,
     "end_time": "2023-11-08T10:02:02.369394",
     "exception": false,
     "start_time": "2023-11-08T10:02:02.349906",
     "status": "completed"
    },
    "tags": []
   },
   "source": [
    "\n",
    "\n",
    "### **Purpose -  A Comprehensive Analysis Using Exploratory Data Analysis and Binomial Logistic Regression.**\n",
    "\n",
    "\n",
    "\n",
    "**Part 1:** EDA & Checking Model Assumptions\n",
    "\n",
    "**Part 2:** Model Building and Evaluation\n",
    "\n",
    "**Part 3:** Interpreting Model Results"
   ]
  },
  {
   "cell_type": "markdown",
   "id": "be0a8f6f",
   "metadata": {
    "papermill": {
     "duration": 0.018785,
     "end_time": "2023-11-08T10:02:02.407363",
     "exception": false,
     "start_time": "2023-11-08T10:02:02.388578",
     "status": "completed"
    },
    "tags": []
   },
   "source": [
    "### **Imports and Data Loading**"
   ]
  },
  {
   "cell_type": "code",
   "execution_count": 1,
   "id": "0f827d29",
   "metadata": {
    "_cell_guid": "b1076dfc-b9ad-4769-8c92-a6c4dae69d19",
    "_uuid": "8f2839f25d086af736a60e9eeb907d3b93b6e0e5",
    "papermill": {
     "duration": 2.624073,
     "end_time": "2023-11-08T10:02:05.051731",
     "exception": false,
     "start_time": "2023-11-08T10:02:02.427658",
     "status": "completed"
    },
    "tags": []
   },
   "outputs": [],
   "source": [
    "\n",
    "import numpy as np \n",
    "import pandas as pd\n",
    "import matplotlib.pyplot as plt\n",
    "import seaborn as sns\n",
    "from sklearn.preprocessing import StandardScaler, OneHotEncoder\n",
    "from sklearn.model_selection import train_test_split\n",
    "from sklearn.metrics import classification_report,f1_score,accuracy_score,precision_score,recall_score,\\\n",
    "confusion_matrix,ConfusionMatrixDisplay\n",
    "from sklearn.linear_model import LogisticRegression\n",
    "\n",
    "\n"
   ]
  },
  {
   "cell_type": "code",
   "execution_count": 2,
   "id": "f46cb0d8",
   "metadata": {
    "papermill": {
     "duration": 0.094902,
     "end_time": "2023-11-08T10:02:05.165958",
     "exception": false,
     "start_time": "2023-11-08T10:02:05.071056",
     "status": "completed"
    },
    "tags": []
   },
   "outputs": [],
   "source": [
    "df = pd.read_csv('waze_dataset.csv')"
   ]
  },
  {
   "cell_type": "markdown",
   "id": "da968b7a",
   "metadata": {
    "papermill": {
     "duration": 0.018878,
     "end_time": "2023-11-08T10:02:05.204522",
     "exception": false,
     "start_time": "2023-11-08T10:02:05.185644",
     "status": "completed"
    },
    "tags": []
   },
   "source": [
    "### **Analyze data using EDA techniques**"
   ]
  },
  {
   "cell_type": "code",
   "execution_count": 3,
   "id": "4066cc5f",
   "metadata": {
    "papermill": {
     "duration": 0.031313,
     "end_time": "2023-11-08T10:02:05.255875",
     "exception": false,
     "start_time": "2023-11-08T10:02:05.224562",
     "status": "completed"
    },
    "tags": []
   },
   "outputs": [
    {
     "data": {
      "text/plain": [
       "(14999, 13)"
      ]
     },
     "execution_count": 3,
     "metadata": {},
     "output_type": "execute_result"
    }
   ],
   "source": [
    "df.shape"
   ]
  },
  {
   "cell_type": "code",
   "execution_count": 4,
   "id": "62989b76",
   "metadata": {
    "papermill": {
     "duration": 0.06604,
     "end_time": "2023-11-08T10:02:05.342337",
     "exception": false,
     "start_time": "2023-11-08T10:02:05.276297",
     "status": "completed"
    },
    "tags": []
   },
   "outputs": [
    {
     "name": "stdout",
     "output_type": "stream",
     "text": [
      "<class 'pandas.core.frame.DataFrame'>\n",
      "RangeIndex: 14999 entries, 0 to 14998\n",
      "Data columns (total 13 columns):\n",
      " #   Column                   Non-Null Count  Dtype  \n",
      "---  ------                   --------------  -----  \n",
      " 0   ID                       14999 non-null  int64  \n",
      " 1   label                    14299 non-null  object \n",
      " 2   sessions                 14999 non-null  int64  \n",
      " 3   drives                   14999 non-null  int64  \n",
      " 4   total_sessions           14999 non-null  float64\n",
      " 5   n_days_after_onboarding  14999 non-null  int64  \n",
      " 6   total_navigations_fav1   14999 non-null  int64  \n",
      " 7   total_navigations_fav2   14999 non-null  int64  \n",
      " 8   driven_km_drives         14999 non-null  float64\n",
      " 9   duration_minutes_drives  14999 non-null  float64\n",
      " 10  activity_days            14999 non-null  int64  \n",
      " 11  driving_days             14999 non-null  int64  \n",
      " 12  device                   14999 non-null  object \n",
      "dtypes: float64(3), int64(8), object(2)\n",
      "memory usage: 1.5+ MB\n"
     ]
    }
   ],
   "source": [
    "df.info()"
   ]
  },
  {
   "cell_type": "code",
   "execution_count": 5,
   "id": "4a145dcb",
   "metadata": {
    "papermill": {
     "duration": 0.036377,
     "end_time": "2023-11-08T10:02:05.398440",
     "exception": false,
     "start_time": "2023-11-08T10:02:05.362063",
     "status": "completed"
    },
    "tags": []
   },
   "outputs": [
    {
     "data": {
      "text/plain": [
       "ID                           0\n",
       "label                      700\n",
       "sessions                     0\n",
       "drives                       0\n",
       "total_sessions               0\n",
       "n_days_after_onboarding      0\n",
       "total_navigations_fav1       0\n",
       "total_navigations_fav2       0\n",
       "driven_km_drives             0\n",
       "duration_minutes_drives      0\n",
       "activity_days                0\n",
       "driving_days                 0\n",
       "device                       0\n",
       "dtype: int64"
      ]
     },
     "execution_count": 5,
     "metadata": {},
     "output_type": "execute_result"
    }
   ],
   "source": [
    "df.isnull().sum()"
   ]
  },
  {
   "cell_type": "markdown",
   "id": "5349c0c4",
   "metadata": {
    "papermill": {
     "duration": 0.0191,
     "end_time": "2023-11-08T10:02:05.437253",
     "exception": false,
     "start_time": "2023-11-08T10:02:05.418153",
     "status": "completed"
    },
    "tags": []
   },
   "source": [
    "Label column is missing 700 values."
   ]
  },
  {
   "cell_type": "code",
   "execution_count": 6,
   "id": "f929a15c",
   "metadata": {
    "papermill": {
     "duration": 0.048829,
     "end_time": "2023-11-08T10:02:05.505653",
     "exception": false,
     "start_time": "2023-11-08T10:02:05.456824",
     "status": "completed"
    },
    "tags": []
   },
   "outputs": [
    {
     "data": {
      "text/html": [
       "<div>\n",
       "<style scoped>\n",
       "    .dataframe tbody tr th:only-of-type {\n",
       "        vertical-align: middle;\n",
       "    }\n",
       "\n",
       "    .dataframe tbody tr th {\n",
       "        vertical-align: top;\n",
       "    }\n",
       "\n",
       "    .dataframe thead th {\n",
       "        text-align: right;\n",
       "    }\n",
       "</style>\n",
       "<table border=\"1\" class=\"dataframe\">\n",
       "  <thead>\n",
       "    <tr style=\"text-align: right;\">\n",
       "      <th></th>\n",
       "      <th>ID</th>\n",
       "      <th>label</th>\n",
       "      <th>sessions</th>\n",
       "      <th>drives</th>\n",
       "      <th>total_sessions</th>\n",
       "      <th>n_days_after_onboarding</th>\n",
       "      <th>total_navigations_fav1</th>\n",
       "      <th>total_navigations_fav2</th>\n",
       "      <th>driven_km_drives</th>\n",
       "      <th>duration_minutes_drives</th>\n",
       "      <th>activity_days</th>\n",
       "      <th>driving_days</th>\n",
       "      <th>device</th>\n",
       "    </tr>\n",
       "  </thead>\n",
       "  <tbody>\n",
       "    <tr>\n",
       "      <th>0</th>\n",
       "      <td>0</td>\n",
       "      <td>retained</td>\n",
       "      <td>283</td>\n",
       "      <td>226</td>\n",
       "      <td>296.748273</td>\n",
       "      <td>2276</td>\n",
       "      <td>208</td>\n",
       "      <td>0</td>\n",
       "      <td>2628.845068</td>\n",
       "      <td>1985.775061</td>\n",
       "      <td>28</td>\n",
       "      <td>19</td>\n",
       "      <td>Android</td>\n",
       "    </tr>\n",
       "    <tr>\n",
       "      <th>1</th>\n",
       "      <td>1</td>\n",
       "      <td>retained</td>\n",
       "      <td>133</td>\n",
       "      <td>107</td>\n",
       "      <td>326.896596</td>\n",
       "      <td>1225</td>\n",
       "      <td>19</td>\n",
       "      <td>64</td>\n",
       "      <td>13715.920550</td>\n",
       "      <td>3160.472914</td>\n",
       "      <td>13</td>\n",
       "      <td>11</td>\n",
       "      <td>iPhone</td>\n",
       "    </tr>\n",
       "    <tr>\n",
       "      <th>2</th>\n",
       "      <td>2</td>\n",
       "      <td>retained</td>\n",
       "      <td>114</td>\n",
       "      <td>95</td>\n",
       "      <td>135.522926</td>\n",
       "      <td>2651</td>\n",
       "      <td>0</td>\n",
       "      <td>0</td>\n",
       "      <td>3059.148818</td>\n",
       "      <td>1610.735904</td>\n",
       "      <td>14</td>\n",
       "      <td>8</td>\n",
       "      <td>Android</td>\n",
       "    </tr>\n",
       "    <tr>\n",
       "      <th>3</th>\n",
       "      <td>3</td>\n",
       "      <td>retained</td>\n",
       "      <td>49</td>\n",
       "      <td>40</td>\n",
       "      <td>67.589221</td>\n",
       "      <td>15</td>\n",
       "      <td>322</td>\n",
       "      <td>7</td>\n",
       "      <td>913.591123</td>\n",
       "      <td>587.196542</td>\n",
       "      <td>7</td>\n",
       "      <td>3</td>\n",
       "      <td>iPhone</td>\n",
       "    </tr>\n",
       "    <tr>\n",
       "      <th>4</th>\n",
       "      <td>4</td>\n",
       "      <td>retained</td>\n",
       "      <td>84</td>\n",
       "      <td>68</td>\n",
       "      <td>168.247020</td>\n",
       "      <td>1562</td>\n",
       "      <td>166</td>\n",
       "      <td>5</td>\n",
       "      <td>3950.202008</td>\n",
       "      <td>1219.555924</td>\n",
       "      <td>27</td>\n",
       "      <td>18</td>\n",
       "      <td>Android</td>\n",
       "    </tr>\n",
       "  </tbody>\n",
       "</table>\n",
       "</div>"
      ],
      "text/plain": [
       "   ID     label  sessions  drives  total_sessions  n_days_after_onboarding  \\\n",
       "0   0  retained       283     226      296.748273                     2276   \n",
       "1   1  retained       133     107      326.896596                     1225   \n",
       "2   2  retained       114      95      135.522926                     2651   \n",
       "3   3  retained        49      40       67.589221                       15   \n",
       "4   4  retained        84      68      168.247020                     1562   \n",
       "\n",
       "   total_navigations_fav1  total_navigations_fav2  driven_km_drives  \\\n",
       "0                     208                       0       2628.845068   \n",
       "1                      19                      64      13715.920550   \n",
       "2                       0                       0       3059.148818   \n",
       "3                     322                       7        913.591123   \n",
       "4                     166                       5       3950.202008   \n",
       "\n",
       "   duration_minutes_drives  activity_days  driving_days   device  \n",
       "0              1985.775061             28            19  Android  \n",
       "1              3160.472914             13            11   iPhone  \n",
       "2              1610.735904             14             8  Android  \n",
       "3               587.196542              7             3   iPhone  \n",
       "4              1219.555924             27            18  Android  "
      ]
     },
     "execution_count": 6,
     "metadata": {},
     "output_type": "execute_result"
    }
   ],
   "source": [
    "df.head()"
   ]
  },
  {
   "cell_type": "code",
   "execution_count": 7,
   "id": "cce312a2",
   "metadata": {
    "papermill": {
     "duration": 0.035631,
     "end_time": "2023-11-08T10:02:05.561338",
     "exception": false,
     "start_time": "2023-11-08T10:02:05.525707",
     "status": "completed"
    },
    "tags": []
   },
   "outputs": [],
   "source": [
    "df = df.drop('ID', axis = 1)"
   ]
  },
  {
   "cell_type": "markdown",
   "id": "7ac5a548",
   "metadata": {
    "papermill": {
     "duration": 0.084145,
     "end_time": "2023-11-08T10:02:05.665790",
     "exception": false,
     "start_time": "2023-11-08T10:02:05.581645",
     "status": "completed"
    },
    "tags": []
   },
   "source": [
    "Evaluating the class imbalance in the target variable"
   ]
  },
  {
   "cell_type": "code",
   "execution_count": 8,
   "id": "895727b9",
   "metadata": {
    "papermill": {
     "duration": 0.036125,
     "end_time": "2023-11-08T10:02:05.722453",
     "exception": false,
     "start_time": "2023-11-08T10:02:05.686328",
     "status": "completed"
    },
    "tags": []
   },
   "outputs": [
    {
     "data": {
      "text/plain": [
       "label\n",
       "retained    0.822645\n",
       "churned     0.177355\n",
       "Name: proportion, dtype: float64"
      ]
     },
     "execution_count": 8,
     "metadata": {},
     "output_type": "execute_result"
    }
   ],
   "source": [
    "df['label'].value_counts(normalize = True)"
   ]
  },
  {
   "cell_type": "code",
   "execution_count": 9,
   "id": "d079186e",
   "metadata": {
    "papermill": {
     "duration": 0.076589,
     "end_time": "2023-11-08T10:02:05.819945",
     "exception": false,
     "start_time": "2023-11-08T10:02:05.743356",
     "status": "completed"
    },
    "tags": []
   },
   "outputs": [
    {
     "data": {
      "text/html": [
       "<div>\n",
       "<style scoped>\n",
       "    .dataframe tbody tr th:only-of-type {\n",
       "        vertical-align: middle;\n",
       "    }\n",
       "\n",
       "    .dataframe tbody tr th {\n",
       "        vertical-align: top;\n",
       "    }\n",
       "\n",
       "    .dataframe thead th {\n",
       "        text-align: right;\n",
       "    }\n",
       "</style>\n",
       "<table border=\"1\" class=\"dataframe\">\n",
       "  <thead>\n",
       "    <tr style=\"text-align: right;\">\n",
       "      <th></th>\n",
       "      <th>sessions</th>\n",
       "      <th>drives</th>\n",
       "      <th>total_sessions</th>\n",
       "      <th>n_days_after_onboarding</th>\n",
       "      <th>total_navigations_fav1</th>\n",
       "      <th>total_navigations_fav2</th>\n",
       "      <th>driven_km_drives</th>\n",
       "      <th>duration_minutes_drives</th>\n",
       "      <th>activity_days</th>\n",
       "      <th>driving_days</th>\n",
       "    </tr>\n",
       "  </thead>\n",
       "  <tbody>\n",
       "    <tr>\n",
       "      <th>count</th>\n",
       "      <td>14999.000000</td>\n",
       "      <td>14999.000000</td>\n",
       "      <td>14999.000000</td>\n",
       "      <td>14999.000000</td>\n",
       "      <td>14999.000000</td>\n",
       "      <td>14999.000000</td>\n",
       "      <td>14999.000000</td>\n",
       "      <td>14999.000000</td>\n",
       "      <td>14999.000000</td>\n",
       "      <td>14999.000000</td>\n",
       "    </tr>\n",
       "    <tr>\n",
       "      <th>mean</th>\n",
       "      <td>80.633776</td>\n",
       "      <td>67.281152</td>\n",
       "      <td>189.964447</td>\n",
       "      <td>1749.837789</td>\n",
       "      <td>121.605974</td>\n",
       "      <td>29.672512</td>\n",
       "      <td>4039.340921</td>\n",
       "      <td>1860.976012</td>\n",
       "      <td>15.537102</td>\n",
       "      <td>12.179879</td>\n",
       "    </tr>\n",
       "    <tr>\n",
       "      <th>std</th>\n",
       "      <td>80.699065</td>\n",
       "      <td>65.913872</td>\n",
       "      <td>136.405128</td>\n",
       "      <td>1008.513876</td>\n",
       "      <td>148.121544</td>\n",
       "      <td>45.394651</td>\n",
       "      <td>2502.149334</td>\n",
       "      <td>1446.702288</td>\n",
       "      <td>9.004655</td>\n",
       "      <td>7.824036</td>\n",
       "    </tr>\n",
       "    <tr>\n",
       "      <th>min</th>\n",
       "      <td>0.000000</td>\n",
       "      <td>0.000000</td>\n",
       "      <td>0.220211</td>\n",
       "      <td>4.000000</td>\n",
       "      <td>0.000000</td>\n",
       "      <td>0.000000</td>\n",
       "      <td>60.441250</td>\n",
       "      <td>18.282082</td>\n",
       "      <td>0.000000</td>\n",
       "      <td>0.000000</td>\n",
       "    </tr>\n",
       "    <tr>\n",
       "      <th>25%</th>\n",
       "      <td>23.000000</td>\n",
       "      <td>20.000000</td>\n",
       "      <td>90.661156</td>\n",
       "      <td>878.000000</td>\n",
       "      <td>9.000000</td>\n",
       "      <td>0.000000</td>\n",
       "      <td>2212.600607</td>\n",
       "      <td>835.996260</td>\n",
       "      <td>8.000000</td>\n",
       "      <td>5.000000</td>\n",
       "    </tr>\n",
       "    <tr>\n",
       "      <th>50%</th>\n",
       "      <td>56.000000</td>\n",
       "      <td>48.000000</td>\n",
       "      <td>159.568115</td>\n",
       "      <td>1741.000000</td>\n",
       "      <td>71.000000</td>\n",
       "      <td>9.000000</td>\n",
       "      <td>3493.858085</td>\n",
       "      <td>1478.249859</td>\n",
       "      <td>16.000000</td>\n",
       "      <td>12.000000</td>\n",
       "    </tr>\n",
       "    <tr>\n",
       "      <th>75%</th>\n",
       "      <td>112.000000</td>\n",
       "      <td>93.000000</td>\n",
       "      <td>254.192341</td>\n",
       "      <td>2623.500000</td>\n",
       "      <td>178.000000</td>\n",
       "      <td>43.000000</td>\n",
       "      <td>5289.861262</td>\n",
       "      <td>2464.362632</td>\n",
       "      <td>23.000000</td>\n",
       "      <td>19.000000</td>\n",
       "    </tr>\n",
       "    <tr>\n",
       "      <th>max</th>\n",
       "      <td>743.000000</td>\n",
       "      <td>596.000000</td>\n",
       "      <td>1216.154633</td>\n",
       "      <td>3500.000000</td>\n",
       "      <td>1236.000000</td>\n",
       "      <td>415.000000</td>\n",
       "      <td>21183.401890</td>\n",
       "      <td>15851.727160</td>\n",
       "      <td>31.000000</td>\n",
       "      <td>30.000000</td>\n",
       "    </tr>\n",
       "  </tbody>\n",
       "</table>\n",
       "</div>"
      ],
      "text/plain": [
       "           sessions        drives  total_sessions  n_days_after_onboarding  \\\n",
       "count  14999.000000  14999.000000    14999.000000             14999.000000   \n",
       "mean      80.633776     67.281152      189.964447              1749.837789   \n",
       "std       80.699065     65.913872      136.405128              1008.513876   \n",
       "min        0.000000      0.000000        0.220211                 4.000000   \n",
       "25%       23.000000     20.000000       90.661156               878.000000   \n",
       "50%       56.000000     48.000000      159.568115              1741.000000   \n",
       "75%      112.000000     93.000000      254.192341              2623.500000   \n",
       "max      743.000000    596.000000     1216.154633              3500.000000   \n",
       "\n",
       "       total_navigations_fav1  total_navigations_fav2  driven_km_drives  \\\n",
       "count            14999.000000            14999.000000      14999.000000   \n",
       "mean               121.605974               29.672512       4039.340921   \n",
       "std                148.121544               45.394651       2502.149334   \n",
       "min                  0.000000                0.000000         60.441250   \n",
       "25%                  9.000000                0.000000       2212.600607   \n",
       "50%                 71.000000                9.000000       3493.858085   \n",
       "75%                178.000000               43.000000       5289.861262   \n",
       "max               1236.000000              415.000000      21183.401890   \n",
       "\n",
       "       duration_minutes_drives  activity_days  driving_days  \n",
       "count             14999.000000   14999.000000  14999.000000  \n",
       "mean               1860.976012      15.537102     12.179879  \n",
       "std                1446.702288       9.004655      7.824036  \n",
       "min                  18.282082       0.000000      0.000000  \n",
       "25%                 835.996260       8.000000      5.000000  \n",
       "50%                1478.249859      16.000000     12.000000  \n",
       "75%                2464.362632      23.000000     19.000000  \n",
       "max               15851.727160      31.000000     30.000000  "
      ]
     },
     "execution_count": 9,
     "metadata": {},
     "output_type": "execute_result"
    }
   ],
   "source": [
    "df.describe()"
   ]
  },
  {
   "cell_type": "markdown",
   "id": "7764afe8",
   "metadata": {
    "papermill": {
     "duration": 0.020348,
     "end_time": "2023-11-08T10:02:05.861075",
     "exception": false,
     "start_time": "2023-11-08T10:02:05.840727",
     "status": "completed"
    },
    "tags": []
   },
   "source": [
    "Examination of the quartile values, standard deviations, and maximum values revealed the presence of outliers in several variables: sessions, drives, total_sessions, total_navigations_fav1, total_navigations_fav2, driven_km_drives, and duration_minutes_drives. These variables exhibit maximum values that significantly exceed the 75th percentile, which suggests the presence of outliers."
   ]
  },
  {
   "cell_type": "markdown",
   "id": "7ce35193",
   "metadata": {
    "papermill": {
     "duration": 0.02047,
     "end_time": "2023-11-08T10:02:05.902081",
     "exception": false,
     "start_time": "2023-11-08T10:02:05.881611",
     "status": "completed"
    },
    "tags": []
   },
   "source": [
    "#### Crafting meaningful features is essential for addressing the business scenario or problem at hand.\n",
    "\n",
    "1. An association exists between the churn rate and the average distance driven per driving day during the past month. Engineering a feature that encapsulates this information could prove beneficial."
   ]
  },
  {
   "cell_type": "code",
   "execution_count": 10,
   "id": "5709520d",
   "metadata": {
    "papermill": {
     "duration": 0.038398,
     "end_time": "2023-11-08T10:02:05.961113",
     "exception": false,
     "start_time": "2023-11-08T10:02:05.922715",
     "status": "completed"
    },
    "tags": []
   },
   "outputs": [
    {
     "name": "stderr",
     "output_type": "stream",
     "text": [
      "C:\\Users\\Eashwar\\AppData\\Local\\Programs\\Python\\Python312\\Lib\\site-packages\\pandas\\core\\nanops.py:1010: RuntimeWarning: invalid value encountered in subtract\n",
      "  sqr = _ensure_numeric((avg - values) ** 2)\n"
     ]
    },
    {
     "data": {
      "text/plain": [
       "count    1.499900e+04\n",
       "mean              inf\n",
       "std               NaN\n",
       "min      3.022063e+00\n",
       "25%      1.672804e+02\n",
       "50%      3.231459e+02\n",
       "75%      7.579257e+02\n",
       "max               inf\n",
       "Name: km_per_driving_day, dtype: float64"
      ]
     },
     "execution_count": 10,
     "metadata": {},
     "output_type": "execute_result"
    }
   ],
   "source": [
    "df['km_per_driving_day'] = df['driven_km_drives'] / df['driving_days']\n",
    "df['km_per_driving_day'].describe()"
   ]
  },
  {
   "cell_type": "markdown",
   "id": "f1199bb4",
   "metadata": {
    "papermill": {
     "duration": 0.021013,
     "end_time": "2023-11-08T10:02:06.004531",
     "exception": false,
     "start_time": "2023-11-08T10:02:05.983518",
     "status": "completed"
    },
    "tags": []
   },
   "source": [
    "There are some unusual values: an infinite mean, an undefined standard deviation (NaN), and an infinite maximum value. This peculiar behavior can be attributed to the presence of zero values within the driving_days data.\n"
   ]
  },
  {
   "cell_type": "code",
   "execution_count": 11,
   "id": "b1d1d788",
   "metadata": {
    "papermill": {
     "duration": 0.04057,
     "end_time": "2023-11-08T10:02:06.066263",
     "exception": false,
     "start_time": "2023-11-08T10:02:06.025693",
     "status": "completed"
    },
    "tags": []
   },
   "outputs": [
    {
     "data": {
      "text/plain": [
       "count    14999.000000\n",
       "mean       578.963113\n",
       "std       1030.094384\n",
       "min          0.000000\n",
       "25%        136.238895\n",
       "50%        272.889272\n",
       "75%        558.686918\n",
       "max      15420.234110\n",
       "Name: km_per_driving_day, dtype: float64"
      ]
     },
     "execution_count": 11,
     "metadata": {},
     "output_type": "execute_result"
    }
   ],
   "source": [
    "df.loc[df['km_per_driving_day'] == np.inf ,'km_per_driving_day'] = 0\n",
    "df['km_per_driving_day'].describe()"
   ]
  },
  {
   "cell_type": "markdown",
   "id": "bc9f24a9",
   "metadata": {
    "papermill": {
     "duration": 0.021002,
     "end_time": "2023-11-08T10:02:06.108956",
     "exception": false,
     "start_time": "2023-11-08T10:02:06.087954",
     "status": "completed"
    },
    "tags": []
   },
   "source": [
    "2. To distinguish professional drivers from other users, a new binary feature named 'professional_driver' will be introduced. This feature will be assigned a value of 1 for users who had at least 60 drives and drove on 15 or more days during the past month."
   ]
  },
  {
   "cell_type": "code",
   "execution_count": 12,
   "id": "adf119af",
   "metadata": {
    "papermill": {
     "duration": 0.033159,
     "end_time": "2023-11-08T10:02:06.163395",
     "exception": false,
     "start_time": "2023-11-08T10:02:06.130236",
     "status": "completed"
    },
    "tags": []
   },
   "outputs": [],
   "source": [
    "df['professional_driver'] = np.where((df['drives'] >=60) & (df['driving_days'] >= 15),1,0)"
   ]
  },
  {
   "cell_type": "code",
   "execution_count": 13,
   "id": "788db6ed",
   "metadata": {
    "papermill": {
     "duration": 0.034736,
     "end_time": "2023-11-08T10:02:06.219126",
     "exception": false,
     "start_time": "2023-11-08T10:02:06.184390",
     "status": "completed"
    },
    "tags": []
   },
   "outputs": [
    {
     "data": {
      "text/plain": [
       "professional_driver\n",
       "0    12405\n",
       "1     2594\n",
       "Name: count, dtype: int64"
      ]
     },
     "execution_count": 13,
     "metadata": {},
     "output_type": "execute_result"
    }
   ],
   "source": [
    "df['professional_driver'].value_counts()"
   ]
  },
  {
   "cell_type": "code",
   "execution_count": 14,
   "id": "1250671a",
   "metadata": {
    "papermill": {
     "duration": 0.047092,
     "end_time": "2023-11-08T10:02:06.287589",
     "exception": false,
     "start_time": "2023-11-08T10:02:06.240497",
     "status": "completed"
    },
    "tags": []
   },
   "outputs": [
    {
     "data": {
      "text/plain": [
       "professional_driver  label   \n",
       "0                    retained    0.801202\n",
       "                     churned     0.198798\n",
       "1                    retained    0.924437\n",
       "                     churned     0.075563\n",
       "Name: proportion, dtype: float64"
      ]
     },
     "execution_count": 14,
     "metadata": {},
     "output_type": "execute_result"
    }
   ],
   "source": [
    "df.groupby(['professional_driver'])['label'].value_counts(normalize=True)"
   ]
  },
  {
   "cell_type": "markdown",
   "id": "469077b1",
   "metadata": {
    "papermill": {
     "duration": 0.021237,
     "end_time": "2023-11-08T10:02:06.330836",
     "exception": false,
     "start_time": "2023-11-08T10:02:06.309599",
     "status": "completed"
    },
    "tags": []
   },
   "source": [
    "A significant disparity exists in churn rates between professional drivers and non-professional drivers, with professional drivers exhibiting a churn rate of 7.6% compared to 19.9% for non-professional drivers. This suggests that incorporating the 'professional_driver' feature into the model could enhance its predictive capabilities.    "
   ]
  },
  {
   "cell_type": "markdown",
   "id": "a8814534",
   "metadata": {
    "papermill": {
     "duration": 0.021074,
     "end_time": "2023-11-08T10:02:06.374243",
     "exception": false,
     "start_time": "2023-11-08T10:02:06.353169",
     "status": "completed"
    },
    "tags": []
   },
   "source": [
    "### **Model Construction**"
   ]
  },
  {
   "cell_type": "markdown",
   "id": "f54745c3",
   "metadata": {
    "papermill": {
     "duration": 0.021016,
     "end_time": "2023-11-08T10:02:06.416899",
     "exception": false,
     "start_time": "2023-11-08T10:02:06.395883",
     "status": "completed"
    },
    "tags": []
   },
   "source": [
    "#### 1. Handling Missing Values"
   ]
  },
  {
   "cell_type": "code",
   "execution_count": 15,
   "id": "b87022dd",
   "metadata": {
    "papermill": {
     "duration": 0.044069,
     "end_time": "2023-11-08T10:02:06.484119",
     "exception": false,
     "start_time": "2023-11-08T10:02:06.440050",
     "status": "completed"
    },
    "tags": []
   },
   "outputs": [
    {
     "name": "stdout",
     "output_type": "stream",
     "text": [
      "<class 'pandas.core.frame.DataFrame'>\n",
      "RangeIndex: 14999 entries, 0 to 14998\n",
      "Data columns (total 14 columns):\n",
      " #   Column                   Non-Null Count  Dtype  \n",
      "---  ------                   --------------  -----  \n",
      " 0   label                    14299 non-null  object \n",
      " 1   sessions                 14999 non-null  int64  \n",
      " 2   drives                   14999 non-null  int64  \n",
      " 3   total_sessions           14999 non-null  float64\n",
      " 4   n_days_after_onboarding  14999 non-null  int64  \n",
      " 5   total_navigations_fav1   14999 non-null  int64  \n",
      " 6   total_navigations_fav2   14999 non-null  int64  \n",
      " 7   driven_km_drives         14999 non-null  float64\n",
      " 8   duration_minutes_drives  14999 non-null  float64\n",
      " 9   activity_days            14999 non-null  int64  \n",
      " 10  driving_days             14999 non-null  int64  \n",
      " 11  device                   14999 non-null  object \n",
      " 12  km_per_driving_day       14999 non-null  float64\n",
      " 13  professional_driver      14999 non-null  int32  \n",
      "dtypes: float64(4), int32(1), int64(7), object(2)\n",
      "memory usage: 1.5+ MB\n"
     ]
    }
   ],
   "source": [
    "df.info()"
   ]
  },
  {
   "cell_type": "code",
   "execution_count": 16,
   "id": "d737ef88",
   "metadata": {
    "papermill": {
     "duration": 0.037926,
     "end_time": "2023-11-08T10:02:06.544515",
     "exception": false,
     "start_time": "2023-11-08T10:02:06.506589",
     "status": "completed"
    },
    "tags": []
   },
   "outputs": [],
   "source": [
    "df = df.dropna(subset=['label'])"
   ]
  },
  {
   "cell_type": "markdown",
   "id": "2461962d",
   "metadata": {
    "papermill": {
     "duration": 0.024844,
     "end_time": "2023-11-08T10:02:06.590957",
     "exception": false,
     "start_time": "2023-11-08T10:02:06.566113",
     "status": "completed"
    },
    "tags": []
   },
   "source": [
    "#### 2. Impute outliers\n",
    "\n",
    "While discarding outliers is generally discouraged, imputing outlying values is sometimes necessary. For this analysis, the 95th percentile of each column will be calculated, and any value in the column exceeding this threshold will be replaced with the 95th percentile value."
   ]
  },
  {
   "cell_type": "code",
   "execution_count": 17,
   "id": "9f14452a",
   "metadata": {
    "papermill": {
     "duration": 0.030122,
     "end_time": "2023-11-08T10:02:06.643079",
     "exception": false,
     "start_time": "2023-11-08T10:02:06.612957",
     "status": "completed"
    },
    "tags": []
   },
   "outputs": [],
   "source": [
    "#def outlier_imputer(column_name, percentile):\n",
    "  \n",
    " #   threshold = df[column_name].quantile(percentile)\n",
    "  #  df.loc[df[column_name] > threshold, column_name] = threshold\n",
    "   # print('{:>25} | percentile: {} | threshold: {}'.format(column_name, percentile, threshold))"
   ]
  },
  {
   "cell_type": "code",
   "execution_count": 18,
   "id": "191ffdb6",
   "metadata": {
    "papermill": {
     "duration": 0.031089,
     "end_time": "2023-11-08T10:02:06.696605",
     "exception": false,
     "start_time": "2023-11-08T10:02:06.665516",
     "status": "completed"
    },
    "tags": []
   },
   "outputs": [],
   "source": [
    "#for column in ['sessions', 'drives', 'total_sessions', 'total_navigations_fav1',\n",
    "  #             'total_navigations_fav2', 'driven_km_drives', 'duration_minutes_drives']:\n",
    "  #  outlier_imputer(column, 0.95)"
   ]
  },
  {
   "cell_type": "code",
   "execution_count": 19,
   "id": "e03ff477",
   "metadata": {
    "papermill": {
     "duration": 0.04443,
     "end_time": "2023-11-08T10:02:06.762984",
     "exception": false,
     "start_time": "2023-11-08T10:02:06.718554",
     "status": "completed"
    },
    "tags": []
   },
   "outputs": [],
   "source": [
    " for column in ['sessions', 'drives', 'total_sessions', 'total_navigations_fav1',\n",
    "               'total_navigations_fav2', 'driven_km_drives', 'duration_minutes_drives']:\n",
    "    threshold = df[column].quantile(0.95)\n",
    "    df.loc[df[column] > threshold, column] = threshold"
   ]
  },
  {
   "cell_type": "code",
   "execution_count": 20,
   "id": "ea9b2592",
   "metadata": {
    "papermill": {
     "duration": 0.083592,
     "end_time": "2023-11-08T10:02:06.868169",
     "exception": false,
     "start_time": "2023-11-08T10:02:06.784577",
     "status": "completed"
    },
    "tags": []
   },
   "outputs": [
    {
     "data": {
      "text/html": [
       "<div>\n",
       "<style scoped>\n",
       "    .dataframe tbody tr th:only-of-type {\n",
       "        vertical-align: middle;\n",
       "    }\n",
       "\n",
       "    .dataframe tbody tr th {\n",
       "        vertical-align: top;\n",
       "    }\n",
       "\n",
       "    .dataframe thead th {\n",
       "        text-align: right;\n",
       "    }\n",
       "</style>\n",
       "<table border=\"1\" class=\"dataframe\">\n",
       "  <thead>\n",
       "    <tr style=\"text-align: right;\">\n",
       "      <th></th>\n",
       "      <th>sessions</th>\n",
       "      <th>drives</th>\n",
       "      <th>total_sessions</th>\n",
       "      <th>n_days_after_onboarding</th>\n",
       "      <th>total_navigations_fav1</th>\n",
       "      <th>total_navigations_fav2</th>\n",
       "      <th>driven_km_drives</th>\n",
       "      <th>duration_minutes_drives</th>\n",
       "      <th>activity_days</th>\n",
       "      <th>driving_days</th>\n",
       "      <th>km_per_driving_day</th>\n",
       "      <th>professional_driver</th>\n",
       "    </tr>\n",
       "  </thead>\n",
       "  <tbody>\n",
       "    <tr>\n",
       "      <th>count</th>\n",
       "      <td>14299.000000</td>\n",
       "      <td>14299.000000</td>\n",
       "      <td>14299.000000</td>\n",
       "      <td>14299.000000</td>\n",
       "      <td>14299.000000</td>\n",
       "      <td>14299.000000</td>\n",
       "      <td>14299.000000</td>\n",
       "      <td>14299.000000</td>\n",
       "      <td>14299.000000</td>\n",
       "      <td>14299.000000</td>\n",
       "      <td>14299.000000</td>\n",
       "      <td>14299.000000</td>\n",
       "    </tr>\n",
       "    <tr>\n",
       "      <th>mean</th>\n",
       "      <td>76.539688</td>\n",
       "      <td>63.964683</td>\n",
       "      <td>183.717304</td>\n",
       "      <td>1751.822505</td>\n",
       "      <td>114.562767</td>\n",
       "      <td>27.187216</td>\n",
       "      <td>3944.558631</td>\n",
       "      <td>1792.911210</td>\n",
       "      <td>15.544653</td>\n",
       "      <td>12.182530</td>\n",
       "      <td>581.942399</td>\n",
       "      <td>0.173998</td>\n",
       "    </tr>\n",
       "    <tr>\n",
       "      <th>std</th>\n",
       "      <td>67.243178</td>\n",
       "      <td>55.127927</td>\n",
       "      <td>118.720520</td>\n",
       "      <td>1008.663834</td>\n",
       "      <td>124.378550</td>\n",
       "      <td>36.715302</td>\n",
       "      <td>2218.358258</td>\n",
       "      <td>1224.329759</td>\n",
       "      <td>9.016088</td>\n",
       "      <td>7.833835</td>\n",
       "      <td>1038.254509</td>\n",
       "      <td>0.379121</td>\n",
       "    </tr>\n",
       "    <tr>\n",
       "      <th>min</th>\n",
       "      <td>0.000000</td>\n",
       "      <td>0.000000</td>\n",
       "      <td>0.220211</td>\n",
       "      <td>4.000000</td>\n",
       "      <td>0.000000</td>\n",
       "      <td>0.000000</td>\n",
       "      <td>60.441250</td>\n",
       "      <td>18.282082</td>\n",
       "      <td>0.000000</td>\n",
       "      <td>0.000000</td>\n",
       "      <td>0.000000</td>\n",
       "      <td>0.000000</td>\n",
       "    </tr>\n",
       "    <tr>\n",
       "      <th>25%</th>\n",
       "      <td>23.000000</td>\n",
       "      <td>20.000000</td>\n",
       "      <td>90.457733</td>\n",
       "      <td>878.500000</td>\n",
       "      <td>10.000000</td>\n",
       "      <td>0.000000</td>\n",
       "      <td>2217.319909</td>\n",
       "      <td>840.181344</td>\n",
       "      <td>8.000000</td>\n",
       "      <td>5.000000</td>\n",
       "      <td>136.168003</td>\n",
       "      <td>0.000000</td>\n",
       "    </tr>\n",
       "    <tr>\n",
       "      <th>50%</th>\n",
       "      <td>56.000000</td>\n",
       "      <td>48.000000</td>\n",
       "      <td>158.718571</td>\n",
       "      <td>1749.000000</td>\n",
       "      <td>71.000000</td>\n",
       "      <td>9.000000</td>\n",
       "      <td>3496.545617</td>\n",
       "      <td>1479.394387</td>\n",
       "      <td>16.000000</td>\n",
       "      <td>12.000000</td>\n",
       "      <td>273.301012</td>\n",
       "      <td>0.000000</td>\n",
       "    </tr>\n",
       "    <tr>\n",
       "      <th>75%</th>\n",
       "      <td>111.000000</td>\n",
       "      <td>93.000000</td>\n",
       "      <td>253.540450</td>\n",
       "      <td>2627.500000</td>\n",
       "      <td>178.000000</td>\n",
       "      <td>43.000000</td>\n",
       "      <td>5299.972162</td>\n",
       "      <td>2466.928876</td>\n",
       "      <td>23.000000</td>\n",
       "      <td>19.000000</td>\n",
       "      <td>558.018761</td>\n",
       "      <td>0.000000</td>\n",
       "    </tr>\n",
       "    <tr>\n",
       "      <th>max</th>\n",
       "      <td>243.000000</td>\n",
       "      <td>200.000000</td>\n",
       "      <td>455.439492</td>\n",
       "      <td>3500.000000</td>\n",
       "      <td>422.000000</td>\n",
       "      <td>124.000000</td>\n",
       "      <td>8898.716275</td>\n",
       "      <td>4668.180092</td>\n",
       "      <td>31.000000</td>\n",
       "      <td>30.000000</td>\n",
       "      <td>15420.234110</td>\n",
       "      <td>1.000000</td>\n",
       "    </tr>\n",
       "  </tbody>\n",
       "</table>\n",
       "</div>"
      ],
      "text/plain": [
       "           sessions        drives  total_sessions  n_days_after_onboarding  \\\n",
       "count  14299.000000  14299.000000    14299.000000             14299.000000   \n",
       "mean      76.539688     63.964683      183.717304              1751.822505   \n",
       "std       67.243178     55.127927      118.720520              1008.663834   \n",
       "min        0.000000      0.000000        0.220211                 4.000000   \n",
       "25%       23.000000     20.000000       90.457733               878.500000   \n",
       "50%       56.000000     48.000000      158.718571              1749.000000   \n",
       "75%      111.000000     93.000000      253.540450              2627.500000   \n",
       "max      243.000000    200.000000      455.439492              3500.000000   \n",
       "\n",
       "       total_navigations_fav1  total_navigations_fav2  driven_km_drives  \\\n",
       "count            14299.000000            14299.000000      14299.000000   \n",
       "mean               114.562767               27.187216       3944.558631   \n",
       "std                124.378550               36.715302       2218.358258   \n",
       "min                  0.000000                0.000000         60.441250   \n",
       "25%                 10.000000                0.000000       2217.319909   \n",
       "50%                 71.000000                9.000000       3496.545617   \n",
       "75%                178.000000               43.000000       5299.972162   \n",
       "max                422.000000              124.000000       8898.716275   \n",
       "\n",
       "       duration_minutes_drives  activity_days  driving_days  \\\n",
       "count             14299.000000   14299.000000  14299.000000   \n",
       "mean               1792.911210      15.544653     12.182530   \n",
       "std                1224.329759       9.016088      7.833835   \n",
       "min                  18.282082       0.000000      0.000000   \n",
       "25%                 840.181344       8.000000      5.000000   \n",
       "50%                1479.394387      16.000000     12.000000   \n",
       "75%                2466.928876      23.000000     19.000000   \n",
       "max                4668.180092      31.000000     30.000000   \n",
       "\n",
       "       km_per_driving_day  professional_driver  \n",
       "count        14299.000000         14299.000000  \n",
       "mean           581.942399             0.173998  \n",
       "std           1038.254509             0.379121  \n",
       "min              0.000000             0.000000  \n",
       "25%            136.168003             0.000000  \n",
       "50%            273.301012             0.000000  \n",
       "75%            558.018761             0.000000  \n",
       "max          15420.234110             1.000000  "
      ]
     },
     "execution_count": 20,
     "metadata": {},
     "output_type": "execute_result"
    }
   ],
   "source": [
    "df.describe()"
   ]
  },
  {
   "cell_type": "markdown",
   "id": "b747fdc8",
   "metadata": {
    "papermill": {
     "duration": 0.022917,
     "end_time": "2023-11-08T10:02:06.914001",
     "exception": false,
     "start_time": "2023-11-08T10:02:06.891084",
     "status": "completed"
    },
    "tags": []
   },
   "source": [
    "#### 3. Encode categorical variables"
   ]
  },
  {
   "cell_type": "code",
   "execution_count": 21,
   "id": "88ea1a95",
   "metadata": {
    "papermill": {
     "duration": 0.031049,
     "end_time": "2023-11-08T10:02:06.967009",
     "exception": false,
     "start_time": "2023-11-08T10:02:06.935960",
     "status": "completed"
    },
    "tags": []
   },
   "outputs": [],
   "source": [
    "#df1 = pd.get_dummies(df)"
   ]
  },
  {
   "cell_type": "code",
   "execution_count": 22,
   "id": "0a663c32",
   "metadata": {
    "papermill": {
     "duration": 0.04321,
     "end_time": "2023-11-08T10:02:07.032323",
     "exception": false,
     "start_time": "2023-11-08T10:02:06.989113",
     "status": "completed"
    },
    "tags": []
   },
   "outputs": [
    {
     "data": {
      "text/html": [
       "<div>\n",
       "<style scoped>\n",
       "    .dataframe tbody tr th:only-of-type {\n",
       "        vertical-align: middle;\n",
       "    }\n",
       "\n",
       "    .dataframe tbody tr th {\n",
       "        vertical-align: top;\n",
       "    }\n",
       "\n",
       "    .dataframe thead th {\n",
       "        text-align: right;\n",
       "    }\n",
       "</style>\n",
       "<table border=\"1\" class=\"dataframe\">\n",
       "  <thead>\n",
       "    <tr style=\"text-align: right;\">\n",
       "      <th></th>\n",
       "      <th>device</th>\n",
       "      <th>device2</th>\n",
       "    </tr>\n",
       "  </thead>\n",
       "  <tbody>\n",
       "    <tr>\n",
       "      <th>14994</th>\n",
       "      <td>iPhone</td>\n",
       "      <td>1</td>\n",
       "    </tr>\n",
       "    <tr>\n",
       "      <th>14995</th>\n",
       "      <td>Android</td>\n",
       "      <td>0</td>\n",
       "    </tr>\n",
       "    <tr>\n",
       "      <th>14996</th>\n",
       "      <td>iPhone</td>\n",
       "      <td>1</td>\n",
       "    </tr>\n",
       "    <tr>\n",
       "      <th>14997</th>\n",
       "      <td>iPhone</td>\n",
       "      <td>1</td>\n",
       "    </tr>\n",
       "    <tr>\n",
       "      <th>14998</th>\n",
       "      <td>iPhone</td>\n",
       "      <td>1</td>\n",
       "    </tr>\n",
       "  </tbody>\n",
       "</table>\n",
       "</div>"
      ],
      "text/plain": [
       "        device  device2\n",
       "14994   iPhone        1\n",
       "14995  Android        0\n",
       "14996   iPhone        1\n",
       "14997   iPhone        1\n",
       "14998   iPhone        1"
      ]
     },
     "execution_count": 22,
     "metadata": {},
     "output_type": "execute_result"
    }
   ],
   "source": [
    "df['device2'] = np.where(df['device']=='Android', 0, 1)\n",
    "df[['device', 'device2']].tail()"
   ]
  },
  {
   "cell_type": "code",
   "execution_count": 23,
   "id": "1744eedd",
   "metadata": {
    "papermill": {
     "duration": 0.045041,
     "end_time": "2023-11-08T10:02:07.100379",
     "exception": false,
     "start_time": "2023-11-08T10:02:07.055338",
     "status": "completed"
    },
    "tags": []
   },
   "outputs": [
    {
     "data": {
      "text/html": [
       "<div>\n",
       "<style scoped>\n",
       "    .dataframe tbody tr th:only-of-type {\n",
       "        vertical-align: middle;\n",
       "    }\n",
       "\n",
       "    .dataframe tbody tr th {\n",
       "        vertical-align: top;\n",
       "    }\n",
       "\n",
       "    .dataframe thead th {\n",
       "        text-align: right;\n",
       "    }\n",
       "</style>\n",
       "<table border=\"1\" class=\"dataframe\">\n",
       "  <thead>\n",
       "    <tr style=\"text-align: right;\">\n",
       "      <th></th>\n",
       "      <th>label</th>\n",
       "      <th>label2</th>\n",
       "    </tr>\n",
       "  </thead>\n",
       "  <tbody>\n",
       "    <tr>\n",
       "      <th>14994</th>\n",
       "      <td>retained</td>\n",
       "      <td>0</td>\n",
       "    </tr>\n",
       "    <tr>\n",
       "      <th>14995</th>\n",
       "      <td>retained</td>\n",
       "      <td>0</td>\n",
       "    </tr>\n",
       "    <tr>\n",
       "      <th>14996</th>\n",
       "      <td>retained</td>\n",
       "      <td>0</td>\n",
       "    </tr>\n",
       "    <tr>\n",
       "      <th>14997</th>\n",
       "      <td>churned</td>\n",
       "      <td>1</td>\n",
       "    </tr>\n",
       "    <tr>\n",
       "      <th>14998</th>\n",
       "      <td>retained</td>\n",
       "      <td>0</td>\n",
       "    </tr>\n",
       "  </tbody>\n",
       "</table>\n",
       "</div>"
      ],
      "text/plain": [
       "          label  label2\n",
       "14994  retained       0\n",
       "14995  retained       0\n",
       "14996  retained       0\n",
       "14997   churned       1\n",
       "14998  retained       0"
      ]
     },
     "execution_count": 23,
     "metadata": {},
     "output_type": "execute_result"
    }
   ],
   "source": [
    "df['label2'] = np.where(df['label']=='churned', 1, 0)\n",
    "df[['label', 'label2']].tail()\n",
    "\n",
    "#df.loc[df['label'] == 'churned', 'label2'] = 1\n",
    "#df.loc[df['label'] != 'churned', 'label2'] = 0\n"
   ]
  },
  {
   "cell_type": "code",
   "execution_count": 24,
   "id": "31c6c0a5",
   "metadata": {
    "papermill": {
     "duration": 0.034051,
     "end_time": "2023-11-08T10:02:07.157444",
     "exception": false,
     "start_time": "2023-11-08T10:02:07.123393",
     "status": "completed"
    },
    "tags": []
   },
   "outputs": [],
   "source": [
    "df = df.drop('label', axis =1)"
   ]
  },
  {
   "cell_type": "code",
   "execution_count": 25,
   "id": "2941757f",
   "metadata": {
    "papermill": {
     "duration": 0.035749,
     "end_time": "2023-11-08T10:02:07.216290",
     "exception": false,
     "start_time": "2023-11-08T10:02:07.180541",
     "status": "completed"
    },
    "tags": []
   },
   "outputs": [],
   "source": [
    "df = df.drop('device',axis =1)"
   ]
  },
  {
   "cell_type": "markdown",
   "id": "8e33be7e",
   "metadata": {
    "papermill": {
     "duration": 0.02311,
     "end_time": "2023-11-08T10:02:07.262322",
     "exception": false,
     "start_time": "2023-11-08T10:02:07.239212",
     "status": "completed"
    },
    "tags": []
   },
   "source": [
    "#### 4. Essential assumptions for logistic regression\n",
    "\n",
    "Independent Observations: This assumption ensures that the data points are not influenced by other data points in the dataset. For this project, it is reasonable to assume that the observations are independent.\n",
    "\n",
    "Absence of Extreme Outliers: Outliers can significantly impact the model's performance. As outliers have already been addressed, this assumption is satisfied.\n",
    "\n",
    "Minimal Multicollinearity: Multicollinearity occurs when independent variables are highly correlated, potentially leading to unstable model coefficients. The extent of multicollinearity will be assessed after modeling.\n",
    "\n",
    "Linear Relationship between Independent Variables and Logit of the Dependent Variable: This assumption implies that the log-odds of the dependent variable change linearly with changes in the independent variables. The validity of this assumption will be evaluated after model development.\n",
    "\n",
    "It is important to note that violating these assumptions may not always lead to a failed model. The impact of assumption violations depends on the specific context and the severity of the violation. Nevertheless, understanding and considering these assumptions is crucial for ensuring the reliability and interpretability of logistic regression models."
   ]
  },
  {
   "cell_type": "markdown",
   "id": "874cc9c1",
   "metadata": {
    "papermill": {
     "duration": 0.022857,
     "end_time": "2023-11-08T10:02:07.308491",
     "exception": false,
     "start_time": "2023-11-08T10:02:07.285634",
     "status": "completed"
    },
    "tags": []
   },
   "source": [
    "#### 5. Collinearity\n",
    "\n",
    "Assessing the relationships between predictor variables"
   ]
  },
  {
   "cell_type": "code",
   "execution_count": 26,
   "id": "158430ea",
   "metadata": {
    "papermill": {
     "duration": 0.063568,
     "end_time": "2023-11-08T10:02:07.396526",
     "exception": false,
     "start_time": "2023-11-08T10:02:07.332958",
     "status": "completed"
    },
    "tags": []
   },
   "outputs": [
    {
     "data": {
      "text/html": [
       "<div>\n",
       "<style scoped>\n",
       "    .dataframe tbody tr th:only-of-type {\n",
       "        vertical-align: middle;\n",
       "    }\n",
       "\n",
       "    .dataframe tbody tr th {\n",
       "        vertical-align: top;\n",
       "    }\n",
       "\n",
       "    .dataframe thead th {\n",
       "        text-align: right;\n",
       "    }\n",
       "</style>\n",
       "<table border=\"1\" class=\"dataframe\">\n",
       "  <thead>\n",
       "    <tr style=\"text-align: right;\">\n",
       "      <th></th>\n",
       "      <th>sessions</th>\n",
       "      <th>drives</th>\n",
       "      <th>total_sessions</th>\n",
       "      <th>n_days_after_onboarding</th>\n",
       "      <th>total_navigations_fav1</th>\n",
       "      <th>total_navigations_fav2</th>\n",
       "      <th>driven_km_drives</th>\n",
       "      <th>duration_minutes_drives</th>\n",
       "      <th>activity_days</th>\n",
       "      <th>driving_days</th>\n",
       "      <th>km_per_driving_day</th>\n",
       "      <th>professional_driver</th>\n",
       "      <th>device2</th>\n",
       "      <th>label2</th>\n",
       "    </tr>\n",
       "  </thead>\n",
       "  <tbody>\n",
       "    <tr>\n",
       "      <th>sessions</th>\n",
       "      <td>1.000000</td>\n",
       "      <td>0.996942</td>\n",
       "      <td>0.597189</td>\n",
       "      <td>0.007101</td>\n",
       "      <td>0.001858</td>\n",
       "      <td>0.008536</td>\n",
       "      <td>0.002996</td>\n",
       "      <td>-0.004545</td>\n",
       "      <td>0.025113</td>\n",
       "      <td>0.020294</td>\n",
       "      <td>-0.011569</td>\n",
       "      <td>0.443654</td>\n",
       "      <td>0.012704</td>\n",
       "      <td>0.034911</td>\n",
       "    </tr>\n",
       "    <tr>\n",
       "      <th>drives</th>\n",
       "      <td>0.996942</td>\n",
       "      <td>1.000000</td>\n",
       "      <td>0.595285</td>\n",
       "      <td>0.006940</td>\n",
       "      <td>0.001058</td>\n",
       "      <td>0.009505</td>\n",
       "      <td>0.003445</td>\n",
       "      <td>-0.003889</td>\n",
       "      <td>0.024357</td>\n",
       "      <td>0.019608</td>\n",
       "      <td>-0.010989</td>\n",
       "      <td>0.444425</td>\n",
       "      <td>0.011684</td>\n",
       "      <td>0.035865</td>\n",
       "    </tr>\n",
       "    <tr>\n",
       "      <th>total_sessions</th>\n",
       "      <td>0.597189</td>\n",
       "      <td>0.595285</td>\n",
       "      <td>1.000000</td>\n",
       "      <td>0.006596</td>\n",
       "      <td>0.000187</td>\n",
       "      <td>0.010371</td>\n",
       "      <td>0.001016</td>\n",
       "      <td>-0.000338</td>\n",
       "      <td>0.015755</td>\n",
       "      <td>0.012953</td>\n",
       "      <td>-0.016167</td>\n",
       "      <td>0.254433</td>\n",
       "      <td>0.012138</td>\n",
       "      <td>0.024568</td>\n",
       "    </tr>\n",
       "    <tr>\n",
       "      <th>n_days_after_onboarding</th>\n",
       "      <td>0.007101</td>\n",
       "      <td>0.006940</td>\n",
       "      <td>0.006596</td>\n",
       "      <td>1.000000</td>\n",
       "      <td>-0.002450</td>\n",
       "      <td>-0.004968</td>\n",
       "      <td>-0.004652</td>\n",
       "      <td>-0.010167</td>\n",
       "      <td>-0.009418</td>\n",
       "      <td>-0.007321</td>\n",
       "      <td>0.011764</td>\n",
       "      <td>0.003770</td>\n",
       "      <td>-0.011299</td>\n",
       "      <td>-0.129263</td>\n",
       "    </tr>\n",
       "    <tr>\n",
       "      <th>total_navigations_fav1</th>\n",
       "      <td>0.001858</td>\n",
       "      <td>0.001058</td>\n",
       "      <td>0.000187</td>\n",
       "      <td>-0.002450</td>\n",
       "      <td>1.000000</td>\n",
       "      <td>0.002866</td>\n",
       "      <td>-0.007368</td>\n",
       "      <td>0.005646</td>\n",
       "      <td>0.010902</td>\n",
       "      <td>0.010419</td>\n",
       "      <td>-0.000197</td>\n",
       "      <td>-0.000224</td>\n",
       "      <td>-0.001316</td>\n",
       "      <td>0.052322</td>\n",
       "    </tr>\n",
       "    <tr>\n",
       "      <th>total_navigations_fav2</th>\n",
       "      <td>0.008536</td>\n",
       "      <td>0.009505</td>\n",
       "      <td>0.010371</td>\n",
       "      <td>-0.004968</td>\n",
       "      <td>0.002866</td>\n",
       "      <td>1.000000</td>\n",
       "      <td>0.003559</td>\n",
       "      <td>-0.003009</td>\n",
       "      <td>-0.004425</td>\n",
       "      <td>0.002000</td>\n",
       "      <td>0.006751</td>\n",
       "      <td>0.007126</td>\n",
       "      <td>-0.000275</td>\n",
       "      <td>0.015032</td>\n",
       "    </tr>\n",
       "    <tr>\n",
       "      <th>driven_km_drives</th>\n",
       "      <td>0.002996</td>\n",
       "      <td>0.003445</td>\n",
       "      <td>0.001016</td>\n",
       "      <td>-0.004652</td>\n",
       "      <td>-0.007368</td>\n",
       "      <td>0.003559</td>\n",
       "      <td>1.000000</td>\n",
       "      <td>0.690515</td>\n",
       "      <td>-0.007441</td>\n",
       "      <td>-0.009549</td>\n",
       "      <td>0.344811</td>\n",
       "      <td>-0.000904</td>\n",
       "      <td>-0.002091</td>\n",
       "      <td>0.019767</td>\n",
       "    </tr>\n",
       "    <tr>\n",
       "      <th>duration_minutes_drives</th>\n",
       "      <td>-0.004545</td>\n",
       "      <td>-0.003889</td>\n",
       "      <td>-0.000338</td>\n",
       "      <td>-0.010167</td>\n",
       "      <td>0.005646</td>\n",
       "      <td>-0.003009</td>\n",
       "      <td>0.690515</td>\n",
       "      <td>1.000000</td>\n",
       "      <td>-0.007895</td>\n",
       "      <td>-0.009425</td>\n",
       "      <td>0.239627</td>\n",
       "      <td>-0.012128</td>\n",
       "      <td>-0.007709</td>\n",
       "      <td>0.040407</td>\n",
       "    </tr>\n",
       "    <tr>\n",
       "      <th>activity_days</th>\n",
       "      <td>0.025113</td>\n",
       "      <td>0.024357</td>\n",
       "      <td>0.015755</td>\n",
       "      <td>-0.009418</td>\n",
       "      <td>0.010902</td>\n",
       "      <td>-0.004425</td>\n",
       "      <td>-0.007441</td>\n",
       "      <td>-0.007895</td>\n",
       "      <td>1.000000</td>\n",
       "      <td>0.947687</td>\n",
       "      <td>-0.397433</td>\n",
       "      <td>0.453825</td>\n",
       "      <td>-0.010221</td>\n",
       "      <td>-0.303851</td>\n",
       "    </tr>\n",
       "    <tr>\n",
       "      <th>driving_days</th>\n",
       "      <td>0.020294</td>\n",
       "      <td>0.019608</td>\n",
       "      <td>0.012953</td>\n",
       "      <td>-0.007321</td>\n",
       "      <td>0.010419</td>\n",
       "      <td>0.002000</td>\n",
       "      <td>-0.009549</td>\n",
       "      <td>-0.009425</td>\n",
       "      <td>0.947687</td>\n",
       "      <td>1.000000</td>\n",
       "      <td>-0.407917</td>\n",
       "      <td>0.469776</td>\n",
       "      <td>-0.003859</td>\n",
       "      <td>-0.294259</td>\n",
       "    </tr>\n",
       "    <tr>\n",
       "      <th>km_per_driving_day</th>\n",
       "      <td>-0.011569</td>\n",
       "      <td>-0.010989</td>\n",
       "      <td>-0.016167</td>\n",
       "      <td>0.011764</td>\n",
       "      <td>-0.000197</td>\n",
       "      <td>0.006751</td>\n",
       "      <td>0.344811</td>\n",
       "      <td>0.239627</td>\n",
       "      <td>-0.397433</td>\n",
       "      <td>-0.407917</td>\n",
       "      <td>1.000000</td>\n",
       "      <td>-0.165966</td>\n",
       "      <td>0.002979</td>\n",
       "      <td>0.148583</td>\n",
       "    </tr>\n",
       "    <tr>\n",
       "      <th>professional_driver</th>\n",
       "      <td>0.443654</td>\n",
       "      <td>0.444425</td>\n",
       "      <td>0.254433</td>\n",
       "      <td>0.003770</td>\n",
       "      <td>-0.000224</td>\n",
       "      <td>0.007126</td>\n",
       "      <td>-0.000904</td>\n",
       "      <td>-0.012128</td>\n",
       "      <td>0.453825</td>\n",
       "      <td>0.469776</td>\n",
       "      <td>-0.165966</td>\n",
       "      <td>1.000000</td>\n",
       "      <td>0.007274</td>\n",
       "      <td>-0.122312</td>\n",
       "    </tr>\n",
       "    <tr>\n",
       "      <th>device2</th>\n",
       "      <td>0.012704</td>\n",
       "      <td>0.011684</td>\n",
       "      <td>0.012138</td>\n",
       "      <td>-0.011299</td>\n",
       "      <td>-0.001316</td>\n",
       "      <td>-0.000275</td>\n",
       "      <td>-0.002091</td>\n",
       "      <td>-0.007709</td>\n",
       "      <td>-0.010221</td>\n",
       "      <td>-0.003859</td>\n",
       "      <td>0.002979</td>\n",
       "      <td>0.007274</td>\n",
       "      <td>1.000000</td>\n",
       "      <td>0.003406</td>\n",
       "    </tr>\n",
       "    <tr>\n",
       "      <th>label2</th>\n",
       "      <td>0.034911</td>\n",
       "      <td>0.035865</td>\n",
       "      <td>0.024568</td>\n",
       "      <td>-0.129263</td>\n",
       "      <td>0.052322</td>\n",
       "      <td>0.015032</td>\n",
       "      <td>0.019767</td>\n",
       "      <td>0.040407</td>\n",
       "      <td>-0.303851</td>\n",
       "      <td>-0.294259</td>\n",
       "      <td>0.148583</td>\n",
       "      <td>-0.122312</td>\n",
       "      <td>0.003406</td>\n",
       "      <td>1.000000</td>\n",
       "    </tr>\n",
       "  </tbody>\n",
       "</table>\n",
       "</div>"
      ],
      "text/plain": [
       "                         sessions    drives  total_sessions  \\\n",
       "sessions                 1.000000  0.996942        0.597189   \n",
       "drives                   0.996942  1.000000        0.595285   \n",
       "total_sessions           0.597189  0.595285        1.000000   \n",
       "n_days_after_onboarding  0.007101  0.006940        0.006596   \n",
       "total_navigations_fav1   0.001858  0.001058        0.000187   \n",
       "total_navigations_fav2   0.008536  0.009505        0.010371   \n",
       "driven_km_drives         0.002996  0.003445        0.001016   \n",
       "duration_minutes_drives -0.004545 -0.003889       -0.000338   \n",
       "activity_days            0.025113  0.024357        0.015755   \n",
       "driving_days             0.020294  0.019608        0.012953   \n",
       "km_per_driving_day      -0.011569 -0.010989       -0.016167   \n",
       "professional_driver      0.443654  0.444425        0.254433   \n",
       "device2                  0.012704  0.011684        0.012138   \n",
       "label2                   0.034911  0.035865        0.024568   \n",
       "\n",
       "                         n_days_after_onboarding  total_navigations_fav1  \\\n",
       "sessions                                0.007101                0.001858   \n",
       "drives                                  0.006940                0.001058   \n",
       "total_sessions                          0.006596                0.000187   \n",
       "n_days_after_onboarding                 1.000000               -0.002450   \n",
       "total_navigations_fav1                 -0.002450                1.000000   \n",
       "total_navigations_fav2                 -0.004968                0.002866   \n",
       "driven_km_drives                       -0.004652               -0.007368   \n",
       "duration_minutes_drives                -0.010167                0.005646   \n",
       "activity_days                          -0.009418                0.010902   \n",
       "driving_days                           -0.007321                0.010419   \n",
       "km_per_driving_day                      0.011764               -0.000197   \n",
       "professional_driver                     0.003770               -0.000224   \n",
       "device2                                -0.011299               -0.001316   \n",
       "label2                                 -0.129263                0.052322   \n",
       "\n",
       "                         total_navigations_fav2  driven_km_drives  \\\n",
       "sessions                               0.008536          0.002996   \n",
       "drives                                 0.009505          0.003445   \n",
       "total_sessions                         0.010371          0.001016   \n",
       "n_days_after_onboarding               -0.004968         -0.004652   \n",
       "total_navigations_fav1                 0.002866         -0.007368   \n",
       "total_navigations_fav2                 1.000000          0.003559   \n",
       "driven_km_drives                       0.003559          1.000000   \n",
       "duration_minutes_drives               -0.003009          0.690515   \n",
       "activity_days                         -0.004425         -0.007441   \n",
       "driving_days                           0.002000         -0.009549   \n",
       "km_per_driving_day                     0.006751          0.344811   \n",
       "professional_driver                    0.007126         -0.000904   \n",
       "device2                               -0.000275         -0.002091   \n",
       "label2                                 0.015032          0.019767   \n",
       "\n",
       "                         duration_minutes_drives  activity_days  driving_days  \\\n",
       "sessions                               -0.004545       0.025113      0.020294   \n",
       "drives                                 -0.003889       0.024357      0.019608   \n",
       "total_sessions                         -0.000338       0.015755      0.012953   \n",
       "n_days_after_onboarding                -0.010167      -0.009418     -0.007321   \n",
       "total_navigations_fav1                  0.005646       0.010902      0.010419   \n",
       "total_navigations_fav2                 -0.003009      -0.004425      0.002000   \n",
       "driven_km_drives                        0.690515      -0.007441     -0.009549   \n",
       "duration_minutes_drives                 1.000000      -0.007895     -0.009425   \n",
       "activity_days                          -0.007895       1.000000      0.947687   \n",
       "driving_days                           -0.009425       0.947687      1.000000   \n",
       "km_per_driving_day                      0.239627      -0.397433     -0.407917   \n",
       "professional_driver                    -0.012128       0.453825      0.469776   \n",
       "device2                                -0.007709      -0.010221     -0.003859   \n",
       "label2                                  0.040407      -0.303851     -0.294259   \n",
       "\n",
       "                         km_per_driving_day  professional_driver   device2  \\\n",
       "sessions                          -0.011569             0.443654  0.012704   \n",
       "drives                            -0.010989             0.444425  0.011684   \n",
       "total_sessions                    -0.016167             0.254433  0.012138   \n",
       "n_days_after_onboarding            0.011764             0.003770 -0.011299   \n",
       "total_navigations_fav1            -0.000197            -0.000224 -0.001316   \n",
       "total_navigations_fav2             0.006751             0.007126 -0.000275   \n",
       "driven_km_drives                   0.344811            -0.000904 -0.002091   \n",
       "duration_minutes_drives            0.239627            -0.012128 -0.007709   \n",
       "activity_days                     -0.397433             0.453825 -0.010221   \n",
       "driving_days                      -0.407917             0.469776 -0.003859   \n",
       "km_per_driving_day                 1.000000            -0.165966  0.002979   \n",
       "professional_driver               -0.165966             1.000000  0.007274   \n",
       "device2                            0.002979             0.007274  1.000000   \n",
       "label2                             0.148583            -0.122312  0.003406   \n",
       "\n",
       "                           label2  \n",
       "sessions                 0.034911  \n",
       "drives                   0.035865  \n",
       "total_sessions           0.024568  \n",
       "n_days_after_onboarding -0.129263  \n",
       "total_navigations_fav1   0.052322  \n",
       "total_navigations_fav2   0.015032  \n",
       "driven_km_drives         0.019767  \n",
       "duration_minutes_drives  0.040407  \n",
       "activity_days           -0.303851  \n",
       "driving_days            -0.294259  \n",
       "km_per_driving_day       0.148583  \n",
       "professional_driver     -0.122312  \n",
       "device2                  0.003406  \n",
       "label2                   1.000000  "
      ]
     },
     "execution_count": 26,
     "metadata": {},
     "output_type": "execute_result"
    }
   ],
   "source": [
    "df.corr(method='pearson')"
   ]
  },
  {
   "cell_type": "code",
   "execution_count": 27,
   "id": "342bd978",
   "metadata": {
    "papermill": {
     "duration": 1.241821,
     "end_time": "2023-11-08T10:02:08.661630",
     "exception": false,
     "start_time": "2023-11-08T10:02:07.419809",
     "status": "completed"
    },
    "tags": []
   },
   "outputs": [
    {
     "data": {
      "image/png": "[encoded data removed]",
      "text/plain": [
       "<Figure size 1500x1000 with 2 Axes>"
      ]
     },
     "metadata": {},
     "output_type": "display_data"
    }
   ],
   "source": [
    "plt.figure(figsize=(15,10))\n",
    "sns.heatmap(df.corr(method='pearson'), vmin=-1, vmax=1, annot=True, cmap='coolwarm')\n",
    "plt.title('Correlation heatmap indicates many low correlated variables',\n",
    "          fontsize=18)\n",
    "plt.show();"
   ]
  },
  {
   "cell_type": "markdown",
   "id": "35e292e0",
   "metadata": {
    "papermill": {
     "duration": 0.026033,
     "end_time": "2023-11-08T10:02:08.714261",
     "exception": false,
     "start_time": "2023-11-08T10:02:08.688228",
     "status": "completed"
    },
    "tags": []
   },
   "source": [
    "Certain predictor variables exhibit strong multicollinearity, as evidenced by Pearson correlation coefficients exceeding an absolute value of 0.7. Specifically, the correlation between 'sessions' and 'drives' is 1.0, and the correlation between 'driving_days' and 'activity_days' is 0.95. Due to this high degree of multicollinearity, only one of these variables should be included in the model."
   ]
  },
  {
   "cell_type": "markdown",
   "id": "49024489",
   "metadata": {
    "papermill": {
     "duration": 0.029546,
     "end_time": "2023-11-08T10:02:08.771505",
     "exception": false,
     "start_time": "2023-11-08T10:02:08.741959",
     "status": "completed"
    },
    "tags": []
   },
   "source": [
    "#### 6. Model building"
   ]
  },
  {
   "cell_type": "code",
   "execution_count": 28,
   "id": "ef665fb4",
   "metadata": {
    "papermill": {
     "duration": 0.039284,
     "end_time": "2023-11-08T10:02:08.838224",
     "exception": false,
     "start_time": "2023-11-08T10:02:08.798940",
     "status": "completed"
    },
    "tags": []
   },
   "outputs": [],
   "source": [
    "X = df.drop(columns = ['label2', 'sessions', 'driving_days'])"
   ]
  },
  {
   "cell_type": "code",
   "execution_count": 29,
   "id": "5d4b7dba",
   "metadata": {
    "papermill": {
     "duration": 0.034983,
     "end_time": "2023-11-08T10:02:08.899597",
     "exception": false,
     "start_time": "2023-11-08T10:02:08.864614",
     "status": "completed"
    },
    "tags": []
   },
   "outputs": [],
   "source": [
    "y = df['label2']"
   ]
  },
  {
   "cell_type": "markdown",
   "id": "c332fb17",
   "metadata": {
    "papermill": {
     "duration": 0.026344,
     "end_time": "2023-11-08T10:02:08.952108",
     "exception": false,
     "start_time": "2023-11-08T10:02:08.925764",
     "status": "completed"
    },
    "tags": []
   },
   "source": [
    "Given the imbalanced nature of the target class (82% retained vs. 18% churned), it is crucial to prevent an uneven split that could either underrepresent or overrepresent the minority class (churned users). To ensure that the minority class is adequately represented in both the training and testing sets, the 'stratify' parameter of the splitting function should be set to 'y'. This will guarantee that the proportion of churned users in both sets matches that of the original dataset.\""
   ]
  },
  {
   "cell_type": "code",
   "execution_count": 30,
   "id": "0c178a7d",
   "metadata": {
    "papermill": {
     "duration": 0.047692,
     "end_time": "2023-11-08T10:02:09.026034",
     "exception": false,
     "start_time": "2023-11-08T10:02:08.978342",
     "status": "completed"
    },
    "tags": []
   },
   "outputs": [],
   "source": [
    "X_train, X_test, y_train, y_test = train_test_split(X, y, stratify=y, random_state=42)"
   ]
  },
  {
   "cell_type": "code",
   "execution_count": 31,
   "id": "71fcce62",
   "metadata": {
    "papermill": {
     "duration": 0.270904,
     "end_time": "2023-11-08T10:02:09.323915",
     "exception": false,
     "start_time": "2023-11-08T10:02:09.053011",
     "status": "completed"
    },
    "tags": []
   },
   "outputs": [
    {
     "data": {
      "text/html": [
       "<style>#sk-container-id-1 {color: black;}#sk-container-id-1 pre{padding: 0;}#sk-container-id-1 div.sk-toggleable {background-color: white;}#sk-container-id-1 label.sk-toggleable__label {cursor: pointer;display: block;width: 100%;margin-bottom: 0;padding: 0.3em;box-sizing: border-box;text-align: center;}#sk-container-id-1 label.sk-toggleable__label-arrow:before {content: \"▸\";float: left;margin-right: 0.25em;color: #696969;}#sk-container-id-1 label.sk-toggleable__label-arrow:hover:before {color: black;}#sk-container-id-1 div.sk-estimator:hover label.sk-toggleable__label-arrow:before {color: black;}#sk-container-id-1 div.sk-toggleable__content {max-height: 0;max-width: 0;overflow: hidden;text-align: left;background-color: #f0f8ff;}#sk-container-id-1 div.sk-toggleable__content pre {margin: 0.2em;color: black;border-radius: 0.25em;background-color: #f0f8ff;}#sk-container-id-1 input.sk-toggleable__control:checked~div.sk-toggleable__content {max-height: 200px;max-width: 100%;overflow: auto;}#sk-container-id-1 input.sk-toggleable__control:checked~label.sk-toggleable__label-arrow:before {content: \"▾\";}#sk-container-id-1 div.sk-estimator input.sk-toggleable__control:checked~label.sk-toggleable__label {background-color: #d4ebff;}#sk-container-id-1 div.sk-label input.sk-toggleable__control:checked~label.sk-toggleable__label {background-color: #d4ebff;}#sk-container-id-1 input.sk-hidden--visually {border: 0;clip: rect(1px 1px 1px 1px);clip: rect(1px, 1px, 1px, 1px);height: 1px;margin: -1px;overflow: hidden;padding: 0;position: absolute;width: 1px;}#sk-container-id-1 div.sk-estimator {font-family: monospace;background-color: #f0f8ff;border: 1px dotted black;border-radius: 0.25em;box-sizing: border-box;margin-bottom: 0.5em;}#sk-container-id-1 div.sk-estimator:hover {background-color: #d4ebff;}#sk-container-id-1 div.sk-parallel-item::after {content: \"\";width: 100%;border-bottom: 1px solid gray;flex-grow: 1;}#sk-container-id-1 div.sk-label:hover label.sk-toggleable__label {background-color: #d4ebff;}#sk-container-id-1 div.sk-serial::before {content: \"\";position: absolute;border-left: 1px solid gray;box-sizing: border-box;top: 0;bottom: 0;left: 50%;z-index: 0;}#sk-container-id-1 div.sk-serial {display: flex;flex-direction: column;align-items: center;background-color: white;padding-right: 0.2em;padding-left: 0.2em;position: relative;}#sk-container-id-1 div.sk-item {position: relative;z-index: 1;}#sk-container-id-1 div.sk-parallel {display: flex;align-items: stretch;justify-content: center;background-color: white;position: relative;}#sk-container-id-1 div.sk-item::before, #sk-container-id-1 div.sk-parallel-item::before {content: \"\";position: absolute;border-left: 1px solid gray;box-sizing: border-box;top: 0;bottom: 0;left: 50%;z-index: -1;}#sk-container-id-1 div.sk-parallel-item {display: flex;flex-direction: column;z-index: 1;position: relative;background-color: white;}#sk-container-id-1 div.sk-parallel-item:first-child::after {align-self: flex-end;width: 50%;}#sk-container-id-1 div.sk-parallel-item:last-child::after {align-self: flex-start;width: 50%;}#sk-container-id-1 div.sk-parallel-item:only-child::after {width: 0;}#sk-container-id-1 div.sk-dashed-wrapped {border: 1px dashed gray;margin: 0 0.4em 0.5em 0.4em;box-sizing: border-box;padding-bottom: 0.4em;background-color: white;}#sk-container-id-1 div.sk-label label {font-family: monospace;font-weight: bold;display: inline-block;line-height: 1.2em;}#sk-container-id-1 div.sk-label-container {text-align: center;}#sk-container-id-1 div.sk-container {/* jupyter's `normalize.less` sets `[hidden] { display: none; }` but bootstrap.min.css set `[hidden] { display: none !important; }` so we also need the `!important` here to be able to override the default hidden behavior on the sphinx rendered scikit-learn.org. See: https://github.com/scikit-learn/scikit-learn/issues/21755 */display: inline-block !important;position: relative;}#sk-container-id-1 div.sk-text-repr-fallback {display: none;}</style><div id=\"sk-container-id-1\" class=\"sk-top-container\"><div class=\"sk-text-repr-fallback\"><pre>LogisticRegression(max_iter=400, penalty=None)</pre><b>In a Jupyter environment, please rerun this cell to show the HTML representation or trust the notebook. <br />On GitHub, the HTML representation is unable to render, please try loading this page with nbviewer.org.</b></div><div class=\"sk-container\" hidden><div class=\"sk-item\"><div class=\"sk-estimator sk-toggleable\"><input class=\"sk-toggleable__control sk-hidden--visually\" id=\"sk-estimator-id-1\" type=\"checkbox\" checked><label for=\"sk-estimator-id-1\" class=\"sk-toggleable__label sk-toggleable__label-arrow\">LogisticRegression</label><div class=\"sk-toggleable__content\"><pre>LogisticRegression(max_iter=400, penalty=None)</pre></div></div></div></div></div>"
      ],
      "text/plain": [
       "LogisticRegression(max_iter=400, penalty=None)"
      ]
     },
     "execution_count": 31,
     "metadata": {},
     "output_type": "execute_result"
    }
   ],
   "source": [
    "model = LogisticRegression(penalty=None, max_iter=400)\n",
    "\n",
    "model.fit(X_train, y_train)"
   ]
  },
  {
   "cell_type": "markdown",
   "id": "774d65d8",
   "metadata": {
    "papermill": {
     "duration": 0.042532,
     "end_time": "2023-11-08T10:02:09.426174",
     "exception": false,
     "start_time": "2023-11-08T10:02:09.383642",
     "status": "completed"
    },
    "tags": []
   },
   "source": [
    "To retrieve the coefficients for each variable, access the '.coef_' attribute of the trained model. The order of the coefficients corresponds to the sequence in which the variables appear in the dataset. Keep in mind that these coefficients represent the change in the log odds of the target variable for every one-unit increase in the corresponding predictor variable."
   ]
  },
  {
   "cell_type": "code",
   "execution_count": 32,
   "id": "a4eba299",
   "metadata": {
    "papermill": {
     "duration": 0.038865,
     "end_time": "2023-11-08T10:02:09.492357",
     "exception": false,
     "start_time": "2023-11-08T10:02:09.453492",
     "status": "completed"
    },
    "tags": []
   },
   "outputs": [
    {
     "data": {
      "text/plain": [
       "drives                     0.001913\n",
       "total_sessions             0.000327\n",
       "n_days_after_onboarding   -0.000406\n",
       "total_navigations_fav1     0.001232\n",
       "total_navigations_fav2     0.000931\n",
       "driven_km_drives          -0.000015\n",
       "duration_minutes_drives    0.000109\n",
       "activity_days             -0.106032\n",
       "km_per_driving_day         0.000018\n",
       "professional_driver       -0.001529\n",
       "device2                   -0.001041\n",
       "dtype: float64"
      ]
     },
     "execution_count": 32,
     "metadata": {},
     "output_type": "execute_result"
    }
   ],
   "source": [
    "pd.Series(model.coef_[0], index=X.columns)"
   ]
  },
  {
   "cell_type": "code",
   "execution_count": 33,
   "id": "5e3ae5f5",
   "metadata": {
    "papermill": {
     "duration": 0.03692,
     "end_time": "2023-11-08T10:02:09.556146",
     "exception": false,
     "start_time": "2023-11-08T10:02:09.519226",
     "status": "completed"
    },
    "tags": []
   },
   "outputs": [
    {
     "data": {
      "text/plain": [
       "array([-0.00170675])"
      ]
     },
     "execution_count": 33,
     "metadata": {},
     "output_type": "execute_result"
    }
   ],
   "source": [
    "model.intercept_"
   ]
  },
  {
   "cell_type": "markdown",
   "id": "dbd06e36",
   "metadata": {
    "papermill": {
     "duration": 0.027124,
     "end_time": "2023-11-08T10:02:09.610561",
     "exception": false,
     "start_time": "2023-11-08T10:02:09.583437",
     "status": "completed"
    },
    "tags": []
   },
   "source": [
    "To validate the assumption of linearity between the independent variables (X) and the estimated log odds (logits), createating a regression plot. Invoking the model's 'predict_proba()' method to obtain the probability of the target event for each sample in the training dataset. Storing the resulting 2-D array, where each row represents a user in X_train, in a variable named 'training_probabilities'. The first column represents the probability of a user not churning, while the second column represents the probability of a user churning."
   ]
  },
  {
   "cell_type": "code",
   "execution_count": 34,
   "id": "f785d059",
   "metadata": {
    "papermill": {
     "duration": 0.04945,
     "end_time": "2023-11-08T10:02:09.687297",
     "exception": false,
     "start_time": "2023-11-08T10:02:09.637847",
     "status": "completed"
    },
    "tags": []
   },
   "outputs": [
    {
     "data": {
      "text/plain": [
       "array([[0.93963485, 0.06036515],\n",
       "       [0.61967302, 0.38032698],\n",
       "       [0.76463179, 0.23536821],\n",
       "       ...,\n",
       "       [0.9190964 , 0.0809036 ],\n",
       "       [0.85092114, 0.14907886],\n",
       "       [0.93516292, 0.06483708]])"
      ]
     },
     "execution_count": 34,
     "metadata": {},
     "output_type": "execute_result"
    }
   ],
   "source": [
    "training_probabilities = model.predict_proba(X_train)\n",
    "training_probabilities"
   ]
  },
  {
   "cell_type": "markdown",
   "id": "503fe95b",
   "metadata": {
    "papermill": {
     "duration": 0.052529,
     "end_time": "2023-11-08T10:02:09.797916",
     "exception": false,
     "start_time": "2023-11-08T10:02:09.745387",
     "status": "completed"
    },
    "tags": []
   },
   "source": [
    "Unlike traditional linear regression, logistic regression does not require a linear relationship between the predictor variable (X) and the dependent variable (y). However, the relationship between the log-odds (also known as logits) of y and X must be linear. This relationship is expressed by the formula: $$\n",
    "logit(p) = ln(\\frac{p}{1-p})\n",
    "$$, where p represents the probability of the event of interest."
   ]
  },
  {
   "cell_type": "code",
   "execution_count": 35,
   "id": "4c50e19c",
   "metadata": {
    "papermill": {
     "duration": 0.070843,
     "end_time": "2023-11-08T10:02:09.896509",
     "exception": false,
     "start_time": "2023-11-08T10:02:09.825666",
     "status": "completed"
    },
    "tags": []
   },
   "outputs": [],
   "source": [
    "logit_data = X_train.copy()\n",
    "logit_data['logit'] = [np.log(prob[1] / prob[0]) for prob in training_probabilities]"
   ]
  },
  {
   "cell_type": "code",
   "execution_count": 36,
   "id": "d2d4cfd4",
   "metadata": {
    "papermill": {
     "duration": 1.223123,
     "end_time": "2023-11-08T10:02:11.147660",
     "exception": false,
     "start_time": "2023-11-08T10:02:09.924537",
     "status": "completed"
    },
    "tags": []
   },
   "outputs": [
    {
     "data": {
      "image/png": "[encoded data removed]",
      "text/plain": [
       "<Figure size 640x480 with 1 Axes>"
      ]
     },
     "metadata": {},
     "output_type": "display_data"
    }
   ],
   "source": [
    "sns.regplot(x='activity_days', y='logit', data=logit_data, scatter_kws={'s': 2, 'alpha': 0.5})\n",
    "plt.title('Log-odds: activity_days');"
   ]
  },
  {
   "cell_type": "markdown",
   "id": "010b10d6",
   "metadata": {
    "papermill": {
     "duration": 0.029631,
     "end_time": "2023-11-08T10:02:11.206908",
     "exception": false,
     "start_time": "2023-11-08T10:02:11.177277",
     "status": "completed"
    },
    "tags": []
   },
   "source": [
    "For a comprehensive analysis, this plot would be generated for each continuous or discrete predictor variable. For illustrative purposes, we only showcase the plot for 'activity_days'."
   ]
  },
  {
   "cell_type": "markdown",
   "id": "a2b496a9",
   "metadata": {
    "papermill": {
     "duration": 0.028721,
     "end_time": "2023-11-08T10:02:11.265095",
     "exception": false,
     "start_time": "2023-11-08T10:02:11.236374",
     "status": "completed"
    },
    "tags": []
   },
   "source": [
    "### **Results and evaluation**"
   ]
  },
  {
   "cell_type": "code",
   "execution_count": 37,
   "id": "4e7a72ec",
   "metadata": {
    "papermill": {
     "duration": 0.048217,
     "end_time": "2023-11-08T10:02:11.343219",
     "exception": false,
     "start_time": "2023-11-08T10:02:11.295002",
     "status": "completed"
    },
    "tags": []
   },
   "outputs": [],
   "source": [
    "y_preds = model.predict(X_test)"
   ]
  },
  {
   "cell_type": "code",
   "execution_count": 38,
   "id": "96bd28e5",
   "metadata": {
    "papermill": {
     "duration": 0.073915,
     "end_time": "2023-11-08T10:02:11.477317",
     "exception": false,
     "start_time": "2023-11-08T10:02:11.403402",
     "status": "completed"
    },
    "tags": []
   },
   "outputs": [
    {
     "data": {
      "text/plain": [
       "0.8237762237762237"
      ]
     },
     "execution_count": 38,
     "metadata": {},
     "output_type": "execute_result"
    }
   ],
   "source": [
    "model.score(X_test, y_test)"
   ]
  },
  {
   "cell_type": "code",
   "execution_count": 39,
   "id": "3df7f1aa",
   "metadata": {
    "papermill": {
     "duration": 0.066518,
     "end_time": "2023-11-08T10:02:11.605549",
     "exception": false,
     "start_time": "2023-11-08T10:02:11.539031",
     "status": "completed"
    },
    "tags": []
   },
   "outputs": [],
   "source": [
    "cm = confusion_matrix(y_test, y_preds)"
   ]
  },
  {
   "cell_type": "code",
   "execution_count": 40,
   "id": "9c63eb17",
   "metadata": {
    "papermill": {
     "duration": 0.361469,
     "end_time": "2023-11-08T10:02:11.995656",
     "exception": false,
     "start_time": "2023-11-08T10:02:11.634187",
     "status": "completed"
    },
    "tags": []
   },
   "outputs": [
    {
     "data": {
      "image/png": "[encoded data removed]",
      "text/plain": [
       "<Figure size 640x480 with 2 Axes>"
      ]
     },
     "metadata": {},
     "output_type": "display_data"
    }
   ],
   "source": [
    "disp = ConfusionMatrixDisplay(confusion_matrix=cm, \n",
    "                              display_labels=['retained', 'churned'],\n",
    "                              )\n",
    "disp.plot();"
   ]
  },
  {
   "cell_type": "code",
   "execution_count": 41,
   "id": "7f4b322a",
   "metadata": {
    "papermill": {
     "duration": 0.054278,
     "end_time": "2023-11-08T10:02:12.079666",
     "exception": false,
     "start_time": "2023-11-08T10:02:12.025388",
     "status": "completed"
    },
    "tags": []
   },
   "outputs": [
    {
     "name": "stdout",
     "output_type": "stream",
     "text": [
      "              precision    recall  f1-score   support\n",
      "\n",
      "    retained       0.83      0.98      0.90      2941\n",
      "     churned       0.52      0.09      0.16       634\n",
      "\n",
      "    accuracy                           0.82      3575\n",
      "   macro avg       0.68      0.54      0.53      3575\n",
      "weighted avg       0.78      0.82      0.77      3575\n",
      "\n"
     ]
    }
   ],
   "source": [
    "target_labels = ['retained', 'churned']\n",
    "print(classification_report(y_test, y_preds, target_names=target_labels))"
   ]
  },
  {
   "cell_type": "markdown",
   "id": "4f0e8bd0",
   "metadata": {
    "papermill": {
     "duration": 0.029074,
     "end_time": "2023-11-08T10:02:12.137943",
     "exception": false,
     "start_time": "2023-11-08T10:02:12.108869",
     "status": "completed"
    },
    "tags": []
   },
   "source": [
    "Precision: Precision is the proportion of positive predictions that are actually correct. In this case, 83% of the predictions that the model classified as \"retained\" were actually retained. However, only 52% of the predictions that the model classified as \"churned\" were actually churned.\n",
    "\n",
    "Recall: Recall is the proportion of actual positives that are correctly identified as such. In this case, 98% of the actual retained customers were correctly identified by the model. However, only 9% of the actual churned customers were correctly identified by the model.\n",
    "\n",
    "F1-score: The F1-score is a harmonic mean of precision and recall. It is a good measure of overall performance when both precision and recall are important. In this case, the F1-score for retained customers is 0.90, and the F1-score for churned customers is 0.16. This indicates that the model is much better at correctly identifying retained customers than churned customers.\n",
    "\n",
    "Support: Support is the number of actual instances for each class. In this case, there are 2941 retained customers and 634 churned customers.\n",
    "\n",
    "Accuracy: Accuracy is the proportion of all predictions that are correct. In this case, 82% of the predictions made by the model were correct.\n",
    "\n",
    "The model's precision is subpar, and its recall is very low. This indicates that it frequently generates false negative predictions and misses identifying users who will churn."
   ]
  },
  {
   "cell_type": "markdown",
   "id": "2edee1cd",
   "metadata": {
    "papermill": {
     "duration": 0.028858,
     "end_time": "2023-11-08T10:02:12.196142",
     "exception": false,
     "start_time": "2023-11-08T10:02:12.167284",
     "status": "completed"
    },
    "tags": []
   },
   "source": [
    "#### A graphic representation of the coefficients of the model, demonstrating the relative importance of each feature."
   ]
  },
  {
   "cell_type": "code",
   "execution_count": 42,
   "id": "bb48a216",
   "metadata": {
    "papermill": {
     "duration": 0.043572,
     "end_time": "2023-11-08T10:02:12.268902",
     "exception": false,
     "start_time": "2023-11-08T10:02:12.225330",
     "status": "completed"
    },
    "tags": []
   },
   "outputs": [
    {
     "data": {
      "text/plain": [
       "[('drives', 0.001913368073195392),\n",
       " ('total_navigations_fav1', 0.0012317544298799394),\n",
       " ('total_navigations_fav2', 0.0009314781122164973),\n",
       " ('total_sessions', 0.00032707253637595307),\n",
       " ('duration_minutes_drives', 0.00010909348759954026),\n",
       " ('km_per_driving_day', 1.822316775293312e-05),\n",
       " ('driven_km_drives', -1.4860529192266098e-05),\n",
       " ('n_days_after_onboarding', -0.00040647767355943336),\n",
       " ('device2', -0.0010412174017488042),\n",
       " ('professional_driver', -0.0015285039878455916),\n",
       " ('activity_days', -0.10603195315725682)]"
      ]
     },
     "execution_count": 42,
     "metadata": {},
     "output_type": "execute_result"
    }
   ],
   "source": [
    "feature_importance = list(zip(X_train.columns, model.coef_[0]))\n",
    "\n",
    "feature_importance = sorted(feature_importance, key=lambda x: x[1], reverse=True)\n",
    "feature_importance"
   ]
  },
  {
   "cell_type": "code",
   "execution_count": 43,
   "id": "52d6f023",
   "metadata": {
    "papermill": {
     "duration": 0.425244,
     "end_time": "2023-11-08T10:02:12.723562",
     "exception": false,
     "start_time": "2023-11-08T10:02:12.298318",
     "status": "completed"
    },
    "tags": []
   },
   "outputs": [
    {
     "data": {
      "image/png": "[encoded data removed]",
      "text/plain": [
       "<Figure size 640x480 with 1 Axes>"
      ]
     },
     "metadata": {},
     "output_type": "display_data"
    }
   ],
   "source": [
    "import seaborn as sns\n",
    "sns.barplot(x=[x[1] for x in feature_importance],\n",
    "            y=[x[0] for x in feature_importance],\n",
    "            orient='h')\n",
    "plt.title('Feature importance');"
   ]
  },
  {
   "cell_type": "markdown",
   "id": "a161ff7e",
   "metadata": {
    "papermill": {
     "duration": 0.030355,
     "end_time": "2023-11-08T10:02:12.783873",
     "exception": false,
     "start_time": "2023-11-08T10:02:12.753518",
     "status": "completed"
    },
    "tags": []
   },
   "source": [
    "### **Overall interpretation:**\n",
    "\n",
    "The classification report shows that the model is reasonably good at classifying retained customers, with a precision of 0.83, a recall of 0.98, and an F1-score of 0.90. However, the model is not very good at classifying churned customers, with a precision of 0.52, a recall of 0.09, and an F1-score of 0.16. This suggests that the model may be overfitting to the retained customers in the training data.\n",
    "\n",
    "Overall, the model has an accuracy of 0.82, which is a good indication of performance. However, it is important to note that the accuracy is not always a reliable measure of performance, especially when there is a large imbalance between the classes. In this case, there are many more retained customers than churned customers, so even a small number of false positives can have a large impact on the accuracy.\n",
    "\n",
    "A better measure of performance in this case is the F1-score, which takes into account both precision and recall. The weighted average F1-score of 0.77 suggests that the model is doing a reasonable job of classifying both retained and churned customers.\n",
    "\n",
    "The 'activity_days' feature exhibited the most significant impact on the model's predictions. It demonstrated a negative correlation with user churn, implying that users with higher activity levels were less likely to churn. This observation aligns with the strong correlation between 'activity_days' and 'driving_days', as identified during the exploratory data analysis (EDA), which indicated that users with more driving days were less likely to churn.\n",
    "\n",
    "As observed in the previous exploratory data analysis (EDA), the churn rate increased with rising values of 'km_per_driving_day'. The correlation heatmap in this notebook further confirmed this positive correlation, indicating that 'km_per_driving_day' exhibited the strongest positive association with churn among all predictor variables and by a significant margin. However, in the model, this variable held the second-least importance.In a multiple logistic regression model, features can interact with each other, giving rise to relationships that may appear counterintuitive. This interplay between features is both an advantage and a disadvantage of predictive models. While capturing these interactions typically enhances the model's predictive power, it also increases the model's complexity and makes it more challenging to interpret.\n",
    "\n",
    "The suitability of using this model for making significant business decisions is questionable due to its low recall score, indicating its inability to accurately identify users who will churn. However, if the model is solely employed to guide further exploratory research, it can still provide valuable insights\n",
    "\n",
    "Recommendations:\n",
    "\n",
    "Incorporating new features based on domain expertise can potentially enhance the predictive power of the model. This is evident in the current model, where the domain-driven feature 'professional_driver' emerged as the third most influential predictor. Additionally, scaling the predictor variables and experimenting with different combinations of predictors can help reduce noise from irrelevant features and improve the overall predictive performance.\n",
    "\n",
    "The model could also be improved by collecting more data on churned customers. This would help the model to learn the characteristics of churned customers better and make more accurate predictions.\n",
    "\n"
   ]
  },
  {
   "cell_type": "code",
   "execution_count": null,
   "id": "c79aa4e6",
   "metadata": {
    "papermill": {
     "duration": 0.029815,
     "end_time": "2023-11-08T10:02:12.844535",
     "exception": false,
     "start_time": "2023-11-08T10:02:12.814720",
     "status": "completed"
    },
    "tags": []
   },
   "outputs": [],
   "source": []
  }
 ],
 "metadata": {
  "kernelspec": {
   "display_name": "Python 3 (ipykernel)",
   "language": "python",
   "name": "python3"
  },
  "language_info": {
   "codemirror_mode": {
    "name": "ipython",
    "version": 3
   },
   "file_extension": ".py",
   "mimetype": "text/x-python",
   "name": "python",
   "nbconvert_exporter": "python",
   "pygments_lexer": "ipython3",
   "version": "3.12.0"
  },
  "papermill": {
   "default_parameters": {},
   "duration": 15.115937,
   "end_time": "2023-11-08T10:02:13.596401",
   "environment_variables": {},
   "exception": null,
   "input_path": "__notebook__.ipynb",
   "output_path": "__notebook__.ipynb",
   "parameters": {},
   "start_time": "2023-11-08T10:01:58.480464",
   "version": "2.4.0"
  }
 },
 "nbformat": 4,
 "nbformat_minor": 5
}
